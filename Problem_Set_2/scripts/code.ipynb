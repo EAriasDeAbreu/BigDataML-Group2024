{
  "cells": [
    {
      "cell_type": "markdown",
      "metadata": {
        "colab_type": "text",
        "id": "view-in-github"
      },
      "source": [
        "<a href=\"https://colab.research.google.com/github/EAriasDeAbreu/BigDataML-Group2024/blob/main/code.ipynb\" target=\"_parent\"><img src=\"https://colab.research.google.com/assets/colab-badge.svg\" alt=\"Open In Colab\"/></a>"
      ]
    },
    {
      "cell_type": "markdown",
      "metadata": {
        "id": "BTULXkYBpiI9"
      },
      "source": [
        "# 0. Set-Up"
      ]
    },
    {
      "cell_type": "markdown",
      "metadata": {
        "id": "K4Rlubb2uWPv"
      },
      "source": [
        "## Load Packages"
      ]
    },
    {
      "cell_type": "code",
      "execution_count": null,
      "metadata": {
        "id": "8vPGk2jGuaGI",
        "vscode": {
          "languageId": "r"
        }
      },
      "outputs": [],
      "source": [
        "#TODO"
      ]
    },
    {
      "cell_type": "markdown",
      "metadata": {
        "id": "2bJkfhTJubX0"
      },
      "source": [
        "## Connect to Kaggle"
      ]
    },
    {
      "cell_type": "code",
      "execution_count": null,
      "metadata": {
        "colab": {
          "base_uri": "https://localhost:8080/"
        },
        "id": "-YSSmRJIqSHq",
        "outputId": "869fe850-af73-417a-8b02-cf63636a7312",
        "vscode": {
          "languageId": "r"
        }
      },
      "outputs": [
        {
          "name": "stderr",
          "output_type": "stream",
          "text": [
            "\u001b[1m\u001b[22mIs it OK to cache OAuth access credentials in the folder \u001b[34m~/.cache/gargle\u001b[39m\n",
            "between R sessions?\n",
            "\u001b[1m1\u001b[22m: Yes\n",
            "\u001b[1m2\u001b[22m: No\n"
          ]
        },
        {
          "name": "stdout",
          "output_type": "stream",
          "text": [
            "Selection: 1\n"
          ]
        },
        {
          "name": "stderr",
          "output_type": "stream",
          "text": [
            "Please point your browser to the following url: \n",
            "\n",
            "https://accounts.google.com/o/oauth2/v2/auth?client_id=603366585132-frjlouoa3s2ono25d2l9ukvhlsrlnr7k.apps.googleusercontent.com&scope=https%3A%2F%2Fwww.googleapis.com%2Fauth%2Fdrive%20https%3A%2F%2Fwww.googleapis.com%2Fauth%2Fuserinfo.email&redirect_uri=https%3A%2F%2Fwww.tidyverse.org%2Fgoogle-callback%2F&response_type=code&state=badceb20488c2dd87efebf546470ebc0&access_type=offline&prompt=consent\n",
            "\n"
          ]
        },
        {
          "name": "stdout",
          "output_type": "stream",
          "text": [
            "Enter authorization code: eyJjb2RlIjoiNC8wQVFsRWQ4ek96Zndrbmxtc3RrVkZuaUNWdmFzQUtrSnVUWWJXeDNUWUhhcUVjNjNaSkpwZTF2X1d2aGNyajJPeW5DR0Q0ZyIsInN0YXRlIjoiYmFkY2ViMjA0ODhjMmRkODdlZmViZjU0NjQ3MGViYzAifQ==\n"
          ]
        }
      ],
      "source": [
        "if (!requireNamespace(\"googledrive\", quietly = TRUE)) {\n",
        "  install.packages(\"googledrive\")\n",
        "}\n",
        "library(googledrive)\n",
        "\n",
        "drive_auth()"
      ]
    },
    {
      "cell_type": "code",
      "execution_count": null,
      "metadata": {
        "id": "Xss8ACbxo8SV",
        "vscode": {
          "languageId": "r"
        }
      },
      "outputs": [],
      "source": [
        "# required packages\n",
        "if (!requireNamespace(\"httr\", quietly = TRUE)) {\n",
        "  install.packages(\"httr\")\n",
        "}\n",
        "if (!requireNamespace(\"jsonlite\", quietly = TRUE)) {\n",
        "  install.packages(\"jsonlite\")\n",
        "}\n",
        "\n",
        "library(httr)\n",
        "library(jsonlite)\n",
        "\n",
        "# function to get creds (see here: https://www.kaggle.com/code/berent/r-api-for-kaggle-datase)\n",
        "setup_kaggle_credentials <- function(username, key) {\n",
        "  dir.create(\"~/.kaggle\", showWarnings = FALSE)\n",
        "  credentials <- list(username = username, key = key)\n",
        "  write(toJSON(credentials, auto_unbox = TRUE), \"~/.kaggle/kaggle.json\")\n",
        "  Sys.chmod(\"~/.kaggle/kaggle.json\", mode = \"0600\")\n",
        "}\n",
        "\n",
        "# function to download data\n",
        "download_competition_data <- function(competition) {\n",
        "  url <- paste0(\"https://www.kaggle.com/api/v1/competitions/data/download-all/\", competition)\n",
        "  print(paste(\"Attempting to download from URL:\", url))\n",
        "  response <- GET(\n",
        "    url,\n",
        "    authenticate(Sys.getenv(\"KAGGLE_USERNAME\"), Sys.getenv(\"KAGGLE_KEY\")),\n",
        "    write_disk(paste0(competition, \".zip\"), overwrite = TRUE),\n",
        "    progress()\n",
        "  )\n",
        "\n",
        "  print(paste(\"Response status code:\", status_code(response)))\n",
        "  if (status_code(response) == 200) {\n",
        "    zip_file <- paste0(competition, \".zip\")\n",
        "    print(paste(\"Downloaded zip file:\", zip_file))\n",
        "\n",
        "    # list contents of the zip file\n",
        "    zip_contents <- unzip(zip_file, list = TRUE)\n",
        "    print(\"Contents of the zip file:\")\n",
        "    print(zip_contents)\n",
        "\n",
        "    unzip(zip_file)\n",
        "    file.remove(zip_file)\n",
        "    print(\"Data extracted successfully.\")\n",
        "\n",
        "    # list files after extraction\n",
        "    print(\"Files in the current directory after extraction:\")\n",
        "    print(list.files())\n",
        "  } else {\n",
        "    print(paste(\"Error downloading data. Status code:\", status_code(response)))\n",
        "    print(paste(\"Error message:\", content(response, \"text\", encoding = \"UTF-8\")))\n",
        "  }\n",
        "}\n",
        "\n",
        "# setup kaggle creds (for me: Edmundo :) )\n",
        "setup_kaggle_credentials(\"edmundoariasdeabreu\", \"YOUR_ACTUAL_KAGGLE_API_KEY\")\n",
        "\n",
        "# set env vars\n",
        "Sys.setenv(KAGGLE_USERNAME = \"edmundoariasdeabreu\")\n",
        "Sys.setenv(KAGGLE_KEY = \"f4f4ca109b592e8896a604f26daa2450\")\n",
        "\n",
        "# download data\n",
        "competition_name <- \"uniandes-bdml-2024-20-ps-2\"\n",
        "download_competition_data(competition_name)\n",
        "print(\"Files in the directory after attempting to download:\")\n",
        "print(list.files())\n",
        "\n",
        "# read data\n",
        "if (\"train_personas.csv\" %in% list.files()) {\n",
        "  train_data <- read.csv(\"train_personas.csv\")\n",
        "  print(head(train_data))\n",
        "} else {\n",
        "  print(\"train_personas.csv not found in the current directory.\")\n",
        "  print(\"Available files:\")\n",
        "  print(list.files())\n",
        "}\n"
      ]
    },
    {
      "cell_type": "code",
      "execution_count": null,
      "metadata": {
        "colab": {
          "base_uri": "https://localhost:8080/",
          "height": 306
        },
        "id": "GCypKGVrs5Bi",
        "outputId": "9ee77206-6132-4f55-a197-7b7d2e17aad7",
        "vscode": {
          "languageId": "r"
        }
      },
      "outputs": [
        {
          "data": {
            "text/html": [
              "<table class=\"dataframe\">\n",
              "<caption>A data.frame: 6 × 135</caption>\n",
              "<thead>\n",
              "\t<tr><th></th><th scope=col>id</th><th scope=col>Orden</th><th scope=col>Clase</th><th scope=col>Dominio</th><th scope=col>Estrato1</th><th scope=col>P6020</th><th scope=col>P6040</th><th scope=col>P6050</th><th scope=col>P6090</th><th scope=col>P6100</th><th scope=col>⋯</th><th scope=col>Iof2es</th><th scope=col>Iof3hes</th><th scope=col>Iof3ies</th><th scope=col>Iof6es</th><th scope=col>Ingtotob</th><th scope=col>Ingtotes</th><th scope=col>Ingtot</th><th scope=col>Fex_c</th><th scope=col>Depto</th><th scope=col>Fex_dpto</th></tr>\n",
              "\t<tr><th></th><th scope=col>&lt;chr&gt;</th><th scope=col>&lt;int&gt;</th><th scope=col>&lt;int&gt;</th><th scope=col>&lt;chr&gt;</th><th scope=col>&lt;int&gt;</th><th scope=col>&lt;int&gt;</th><th scope=col>&lt;int&gt;</th><th scope=col>&lt;int&gt;</th><th scope=col>&lt;int&gt;</th><th scope=col>&lt;int&gt;</th><th scope=col>⋯</th><th scope=col>&lt;dbl&gt;</th><th scope=col>&lt;dbl&gt;</th><th scope=col>&lt;dbl&gt;</th><th scope=col>&lt;dbl&gt;</th><th scope=col>&lt;dbl&gt;</th><th scope=col>&lt;dbl&gt;</th><th scope=col>&lt;dbl&gt;</th><th scope=col>&lt;dbl&gt;</th><th scope=col>&lt;int&gt;</th><th scope=col>&lt;dbl&gt;</th></tr>\n",
              "</thead>\n",
              "<tbody>\n",
              "\t<tr><th scope=row>1</th><td>8d0193e328305a042001a35f</td><td>2</td><td>1</td><td>MEDELLIN</td><td>2</td><td>2</td><td>38</td><td>2</td><td> 1</td><td> 1</td><td>⋯</td><td>NA</td><td>NA</td><td>NA</td><td>NA</td><td>1109190</td><td>NA</td><td>1109190</td><td>127.2220</td><td>5</td><td>146.25179</td></tr>\n",
              "\t<tr><th scope=row>2</th><td>8d0193e328305a042001a35f</td><td>5</td><td>1</td><td>MEDELLIN</td><td>2</td><td>1</td><td> 3</td><td>3</td><td>NA</td><td>NA</td><td>⋯</td><td>NA</td><td>NA</td><td>NA</td><td>NA</td><td>     NA</td><td>NA</td><td>     NA</td><td>127.2220</td><td>5</td><td>146.25179</td></tr>\n",
              "\t<tr><th scope=row>3</th><td>8d0193e328305a042001a35f</td><td>1</td><td>1</td><td>MEDELLIN</td><td>2</td><td>1</td><td>41</td><td>1</td><td> 1</td><td> 1</td><td>⋯</td><td>NA</td><td>NA</td><td>NA</td><td>NA</td><td>1399140</td><td>NA</td><td>1399140</td><td>127.2220</td><td>5</td><td>146.25179</td></tr>\n",
              "\t<tr><th scope=row>4</th><td>8d0193e328305a042001a35f</td><td>4</td><td>1</td><td>MEDELLIN</td><td>2</td><td>1</td><td> 3</td><td>3</td><td>NA</td><td>NA</td><td>⋯</td><td>NA</td><td>NA</td><td>NA</td><td>NA</td><td>     NA</td><td>NA</td><td>     NA</td><td>127.2220</td><td>5</td><td>146.25179</td></tr>\n",
              "\t<tr><th scope=row>5</th><td>8d0193e328305a042001a35f</td><td>3</td><td>1</td><td>MEDELLIN</td><td>2</td><td>1</td><td>11</td><td>3</td><td>NA</td><td>NA</td><td>⋯</td><td>NA</td><td>NA</td><td>NA</td><td>NA</td><td>     NA</td><td>NA</td><td>     NA</td><td>127.2220</td><td>5</td><td>146.25179</td></tr>\n",
              "\t<tr><th scope=row>6</th><td>cf7491d7f2cc9c216bd009e7</td><td>4</td><td>1</td><td>MEDELLIN</td><td>2</td><td>1</td><td>53</td><td>5</td><td> 1</td><td> 3</td><td>⋯</td><td>NA</td><td>NA</td><td>NA</td><td>NA</td><td>      0</td><td>NA</td><td>      0</td><td>115.8661</td><td>5</td><td> 93.08095</td></tr>\n",
              "</tbody>\n",
              "</table>\n"
            ],
            "text/latex": [
              "A data.frame: 6 × 135\n",
              "\\begin{tabular}{r|lllllllllllllllllllll}\n",
              "  & id & Orden & Clase & Dominio & Estrato1 & P6020 & P6040 & P6050 & P6090 & P6100 & ⋯ & Iof2es & Iof3hes & Iof3ies & Iof6es & Ingtotob & Ingtotes & Ingtot & Fex\\_c & Depto & Fex\\_dpto\\\\\n",
              "  & <chr> & <int> & <int> & <chr> & <int> & <int> & <int> & <int> & <int> & <int> & ⋯ & <dbl> & <dbl> & <dbl> & <dbl> & <dbl> & <dbl> & <dbl> & <dbl> & <int> & <dbl>\\\\\n",
              "\\hline\n",
              "\t1 & 8d0193e328305a042001a35f & 2 & 1 & MEDELLIN & 2 & 2 & 38 & 2 &  1 &  1 & ⋯ & NA & NA & NA & NA & 1109190 & NA & 1109190 & 127.2220 & 5 & 146.25179\\\\\n",
              "\t2 & 8d0193e328305a042001a35f & 5 & 1 & MEDELLIN & 2 & 1 &  3 & 3 & NA & NA & ⋯ & NA & NA & NA & NA &      NA & NA &      NA & 127.2220 & 5 & 146.25179\\\\\n",
              "\t3 & 8d0193e328305a042001a35f & 1 & 1 & MEDELLIN & 2 & 1 & 41 & 1 &  1 &  1 & ⋯ & NA & NA & NA & NA & 1399140 & NA & 1399140 & 127.2220 & 5 & 146.25179\\\\\n",
              "\t4 & 8d0193e328305a042001a35f & 4 & 1 & MEDELLIN & 2 & 1 &  3 & 3 & NA & NA & ⋯ & NA & NA & NA & NA &      NA & NA &      NA & 127.2220 & 5 & 146.25179\\\\\n",
              "\t5 & 8d0193e328305a042001a35f & 3 & 1 & MEDELLIN & 2 & 1 & 11 & 3 & NA & NA & ⋯ & NA & NA & NA & NA &      NA & NA &      NA & 127.2220 & 5 & 146.25179\\\\\n",
              "\t6 & cf7491d7f2cc9c216bd009e7 & 4 & 1 & MEDELLIN & 2 & 1 & 53 & 5 &  1 &  3 & ⋯ & NA & NA & NA & NA &       0 & NA &       0 & 115.8661 & 5 &  93.08095\\\\\n",
              "\\end{tabular}\n"
            ],
            "text/markdown": [
              "\n",
              "A data.frame: 6 × 135\n",
              "\n",
              "| <!--/--> | id &lt;chr&gt; | Orden &lt;int&gt; | Clase &lt;int&gt; | Dominio &lt;chr&gt; | Estrato1 &lt;int&gt; | P6020 &lt;int&gt; | P6040 &lt;int&gt; | P6050 &lt;int&gt; | P6090 &lt;int&gt; | P6100 &lt;int&gt; | ⋯ ⋯ | Iof2es &lt;dbl&gt; | Iof3hes &lt;dbl&gt; | Iof3ies &lt;dbl&gt; | Iof6es &lt;dbl&gt; | Ingtotob &lt;dbl&gt; | Ingtotes &lt;dbl&gt; | Ingtot &lt;dbl&gt; | Fex_c &lt;dbl&gt; | Depto &lt;int&gt; | Fex_dpto &lt;dbl&gt; |\n",
              "|---|---|---|---|---|---|---|---|---|---|---|---|---|---|---|---|---|---|---|---|---|---|\n",
              "| 1 | 8d0193e328305a042001a35f | 2 | 1 | MEDELLIN | 2 | 2 | 38 | 2 |  1 |  1 | ⋯ | NA | NA | NA | NA | 1109190 | NA | 1109190 | 127.2220 | 5 | 146.25179 |\n",
              "| 2 | 8d0193e328305a042001a35f | 5 | 1 | MEDELLIN | 2 | 1 |  3 | 3 | NA | NA | ⋯ | NA | NA | NA | NA |      NA | NA |      NA | 127.2220 | 5 | 146.25179 |\n",
              "| 3 | 8d0193e328305a042001a35f | 1 | 1 | MEDELLIN | 2 | 1 | 41 | 1 |  1 |  1 | ⋯ | NA | NA | NA | NA | 1399140 | NA | 1399140 | 127.2220 | 5 | 146.25179 |\n",
              "| 4 | 8d0193e328305a042001a35f | 4 | 1 | MEDELLIN | 2 | 1 |  3 | 3 | NA | NA | ⋯ | NA | NA | NA | NA |      NA | NA |      NA | 127.2220 | 5 | 146.25179 |\n",
              "| 5 | 8d0193e328305a042001a35f | 3 | 1 | MEDELLIN | 2 | 1 | 11 | 3 | NA | NA | ⋯ | NA | NA | NA | NA |      NA | NA |      NA | 127.2220 | 5 | 146.25179 |\n",
              "| 6 | cf7491d7f2cc9c216bd009e7 | 4 | 1 | MEDELLIN | 2 | 1 | 53 | 5 |  1 |  3 | ⋯ | NA | NA | NA | NA |       0 | NA |       0 | 115.8661 | 5 |  93.08095 |\n",
              "\n"
            ],
            "text/plain": [
              "  id                       Orden Clase Dominio  Estrato1 P6020 P6040 P6050\n",
              "1 8d0193e328305a042001a35f 2     1     MEDELLIN 2        2     38    2    \n",
              "2 8d0193e328305a042001a35f 5     1     MEDELLIN 2        1      3    3    \n",
              "3 8d0193e328305a042001a35f 1     1     MEDELLIN 2        1     41    1    \n",
              "4 8d0193e328305a042001a35f 4     1     MEDELLIN 2        1      3    3    \n",
              "5 8d0193e328305a042001a35f 3     1     MEDELLIN 2        1     11    3    \n",
              "6 cf7491d7f2cc9c216bd009e7 4     1     MEDELLIN 2        1     53    5    \n",
              "  P6090 P6100 ⋯ Iof2es Iof3hes Iof3ies Iof6es Ingtotob Ingtotes Ingtot \n",
              "1  1     1    ⋯ NA     NA      NA      NA     1109190  NA       1109190\n",
              "2 NA    NA    ⋯ NA     NA      NA      NA          NA  NA            NA\n",
              "3  1     1    ⋯ NA     NA      NA      NA     1399140  NA       1399140\n",
              "4 NA    NA    ⋯ NA     NA      NA      NA          NA  NA            NA\n",
              "5 NA    NA    ⋯ NA     NA      NA      NA          NA  NA            NA\n",
              "6  1     3    ⋯ NA     NA      NA      NA           0  NA             0\n",
              "  Fex_c    Depto Fex_dpto \n",
              "1 127.2220 5     146.25179\n",
              "2 127.2220 5     146.25179\n",
              "3 127.2220 5     146.25179\n",
              "4 127.2220 5     146.25179\n",
              "5 127.2220 5     146.25179\n",
              "6 115.8661 5      93.08095"
            ]
          },
          "metadata": {},
          "output_type": "display_data"
        }
      ],
      "source": [
        "head(train_data)"
      ]
    },
    {
      "cell_type": "markdown",
      "metadata": {
        "id": "8tmPTZizue5y"
      },
      "source": [
        "# 1. Introduction\n",
        "\n",
        "The introduction brieﬂy states the problem and if there are any antecedents. It brieﬂy describes the data and its suitability to address the problem set question. It contains a preview of the results and main takeaways."
      ]
    },
    {
      "cell_type": "code",
      "execution_count": null,
      "metadata": {
        "id": "xlNdFx9suiDO",
        "vscode": {
          "languageId": "r"
        }
      },
      "outputs": [],
      "source": [
        "#TODO"
      ]
    },
    {
      "cell_type": "markdown",
      "metadata": {
        "id": "9dg7HSL6ujO0"
      },
      "source": [
        "# 2. Data\n",
        "\n",
        "1. Describe the adequacy of the data to solve the predictive question, the sample construction process, including how the data was cleaned, combined, and how new variables were created.\n",
        "\n",
        "2. Include a descriptive analysis of the data. At a minimum, you should include\n",
        "a descriptive statistics table with its interpretation. However, I expect a deep\n",
        "analysis that helps the reader understand the data, its variation, and the justiﬁcation for your data choices. Use your professional knowledge to add value to this section. Do not present it as a “dry” list of ingredients."
      ]
    },
    {
      "cell_type": "code",
      "execution_count": null,
      "metadata": {
        "id": "3UFlbCMpus2F",
        "vscode": {
          "languageId": "r"
        }
      },
      "outputs": [],
      "source": [
        "#TODO"
      ]
    },
    {
      "cell_type": "markdown",
      "metadata": {
        "id": "WTWTl9AUuxVd"
      },
      "source": [
        "# 3. Model & Results\n",
        "\n",
        "Presents the speciﬁcations and models used for the\n",
        "predictive tasks."
      ]
    },
    {
      "cell_type": "markdown",
      "metadata": {
        "id": "DXcNqV4ku4LE"
      },
      "source": [
        "## 3.1. Models\n",
        "\n",
        "This subsection describes brieﬂy the models used. The description\n",
        "should include the variables used, how the models were trained, hyper-parameters\n",
        "selection, if any sub-sampling strategy used (and how it was used) to address\n",
        "class imbalances, and any other relevant information. You must submit in Kaggle at least eight (8) predictions trained with at least four (4) of the following algorithms: Linear Regression, Logit, Elastic Net, CARTs, Random Forest, and Boosting."
      ]
    },
    {
      "cell_type": "markdown",
      "metadata": {
        "id": "8LrCi_CFvTCQ"
      },
      "source": [
        "### 3.1.1. Lu"
      ]
    },
    {
      "cell_type": "code",
      "execution_count": null,
      "metadata": {
        "id": "i1DdQkORu-PU",
        "vscode": {
          "languageId": "r"
        }
      },
      "outputs": [],
      "source": [
        "#TODO:"
      ]
    },
    {
      "cell_type": "markdown",
      "metadata": {
        "id": "N48hHhkvvsvo"
      },
      "source": [
        "### 3.1.2. Ed"
      ]
    },
    {
      "cell_type": "code",
      "execution_count": null,
      "metadata": {
        "id": "I2Gy3Shcvvaf",
        "vscode": {
          "languageId": "r"
        }
      },
      "outputs": [],
      "source": [
        "#TODO"
      ]
    },
    {
      "cell_type": "markdown",
      "metadata": {
        "id": "XMd8cMXzvwIm"
      },
      "source": [
        "### 3.1.3. JuanDi"
      ]
    },
    {
      "cell_type": "code",
      "execution_count": null,
      "metadata": {
        "id": "LIkz_IBtvxzb",
        "vscode": {
          "languageId": "r"
        }
      },
      "outputs": [],
      "source": [
        "#TODO"
      ]
    },
    {
      "cell_type": "markdown",
      "metadata": {
        "id": "xt7RTrsvu_OQ"
      },
      "source": [
        "## 3.2. Results\n",
        "\n",
        "Describe the results of your models in terms of\n",
        "the relevant metrics. This subsection must include:\n",
        "- Discussion with a comparison of the training and test performance of the\n",
        "models. Highlighting the model with the best performance.\n",
        "- A detailed description of the model with the best performance submitted\n",
        "to Kaggle.\n",
        "- A discussion of the relative importance of the predictors in the best per-\n",
        "forming model."
      ]
    },
    {
      "cell_type": "code",
      "execution_count": null,
      "metadata": {
        "id": "0UlZHHLkvKes",
        "vscode": {
          "languageId": "r"
        }
      },
      "outputs": [],
      "source": [
        "#TODO"
      ]
    },
    {
      "cell_type": "markdown",
      "metadata": {
        "id": "NnEpm0tqvLFd"
      },
      "source": [
        "# 4. Conclusions\n",
        "\n",
        "State the main takeaways of your work."
      ]
    }
  ],
  "metadata": {
    "colab": {
      "authorship_tag": "ABX9TyNJ/GAkOUziNTol91U9CP3P",
      "include_colab_link": true,
      "machine_shape": "hm",
      "provenance": []
    },
    "kernelspec": {
      "display_name": "R",
      "name": "ir"
    },
    "language_info": {
      "name": "R"
    }
  },
  "nbformat": 4,
  "nbformat_minor": 0
}
