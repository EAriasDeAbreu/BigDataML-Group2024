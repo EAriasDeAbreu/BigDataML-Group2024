{
 "cells": [
  {
   "cell_type": "code",
   "execution_count": 83,
   "metadata": {
    "vscode": {
     "languageId": "r"
    }
   },
   "outputs": [],
   "source": [
    "if (!require(pacman)) install.packages(pacman)\n",
    "require(pacman)"
   ]
  },
  {
   "cell_type": "code",
   "execution_count": 84,
   "metadata": {
    "vscode": {
     "languageId": "r"
    }
   },
   "outputs": [],
   "source": [
    "p_load(\n",
    "  rio,      # Importar/exportar datos\n",
    "  tidyverse,\n",
    "  # Manejo de datos ordenados (incluye dplyr, ggplot2, tidyr, readr, etc.)\n",
    "  skimr,    # Resúmenes rápidos de datos\n",
    "  gridExtra,\n",
    "  # Visualización de datos faltantes y organizar gráficos en cuadrículas\n",
    "  corrplot, # Gráficos de correlación\n",
    "  stargazer, # Tablas y salida para LaTeX\n",
    "  MASS,\n",
    "  # Cálculos posteriores a la regresión y distribuciones estadísticas\n",
    "  rvest,    # Web scraping\n",
    "  httr,     # Realizar solicitudes HTTP (APIs y scraping)\n",
    "  boot,     # Herramientas para Bootstrap y remuestreo estadístico\n",
    "  broom,    # Convertir resultados de modelos a df_geih frames ordenados\n",
    "  lmtest,   # Pruebas estadísticas para modelos lineales\n",
    "  fixest,   # Estimadores con efectos fijos (modelos lineales avanzados)\n",
    "  sandwich,   # Estimaciones de varianza robusta\n",
    "  future.apply,   # Paralelización y ejecución asincrónica\n",
    "  furrr,    # Versión paralela de funciones de purrr\n",
    "  memoise   # Funciones con caché para evitar cálculos repetitivos\n",
    ")"
   ]
  },
  {
   "cell_type": "code",
   "execution_count": 85,
   "metadata": {
    "vscode": {
     "languageId": "r"
    }
   },
   "outputs": [],
   "source": [
    "seed <- 555"
   ]
  },
  {
   "cell_type": "markdown",
   "metadata": {},
   "source": [
    "### Web Scrapping"
   ]
  },
  {
   "cell_type": "code",
   "execution_count": 86,
   "metadata": {
    "vscode": {
     "languageId": "r"
    }
   },
   "outputs": [],
   "source": [
    "urls    <- paste0('https://ignaciomsarmiento.github.io/GEIH2018_sample/pages/geih_page_',1:10,'.html') # nolint\n",
    "c_geih  <- future_lapply(\n",
    "        urls,# nolint\n",
    "        function(url){# nolint  \n",
    "                html <- read_html(url)# nolint  \n",
    "                return()(html_node(html, \"table\") %>% html_table())# nolint  \n",
    "                })# nolint  \n",
    "\n",
    "df <- do.call(rbind, df_list)\n",
    "\n",
    "# write.csv(df_geih, \"geih.csv\", row.names = FALSE) # nolint"
   ]
  },
  {
   "cell_type": "code",
   "execution_count": 87,
   "metadata": {
    "vscode": {
     "languageId": "r"
    }
   },
   "outputs": [
    {
     "name": "stderr",
     "output_type": "stream",
     "text": [
      "Warning message:\n",
      "\"\u001b[1m\u001b[22mThe `trust` argument of `import()` should be explicit for serialization formats\n",
      "as of rio 1.0.3.\n",
      "\u001b[36mi\u001b[39m Missing `trust` will be set to FALSE by default for RData in 2.0.0.\n",
      "\u001b[36mi\u001b[39m The deprecated feature was likely used in the \u001b[34mrio\u001b[39m package.\n",
      "  Please report the issue at \u001b[3m\u001b[34m<https://github.com/gesistsa/rio/issues>\u001b[39m\u001b[23m.\"\n"
     ]
    }
   ],
   "source": [
    "df_geih <- import(\"https://github.com/EAriasDeAbreu/Bigdf_geihML-Group2024/raw/main/Problem_Set_1/df_geih/GEIH.Rdf_geih\")"
   ]
  },
  {
   "cell_type": "markdown",
   "metadata": {},
   "source": [
    "### Limpieza"
   ]
  },
  {
   "cell_type": "code",
   "execution_count": 88,
   "metadata": {
    "vscode": {
     "languageId": "r"
    }
   },
   "outputs": [],
   "source": [
    "df_geih  <- df_geih %>%\n",
    "            filter(                             # nolint\n",
    "            age > 18 &                          # nolint\n",
    "            ocu == 1 &                          # nolint\n",
    "            !is.na(y_salary_m) &                # nolint\n",
    "            !is.na(age)) %>%\n",
    "            mutate(ln_w = log(y_salary_m + 1))  # nolint"
   ]
  },
  {
   "cell_type": "code",
   "execution_count": 99,
   "metadata": {
    "vscode": {
     "languageId": "r"
    }
   },
   "outputs": [],
   "source": [
    "# Crear variable dicotómica para p6580 (bonificaciones recibidas el mes pasado)\n",
    "df_geih$bonif <- ifelse(df_geih$p6580 == 1, 1, ifelse(df_geih$p6580 == 2, 0, NA))\n",
    "\n",
    "# Crear variable dicotómica para y_horasExtras_m (ingreso por horas extras)\n",
    "df_geih$extra_h <- ifelse(df_geih$y_horasExtras_m > 0, 1, 0)\n",
    "\n",
    "# Crear variable dicotómica para p7472 (ingresos por trabajo en desocupados)\n",
    "df_geih$desoc <- ifelse(df_geih$p7472 == 1, 1, 0)"
   ]
  },
  {
   "cell_type": "markdown",
   "metadata": {},
   "source": [
    "## Estimación sugerida"
   ]
  },
  {
   "cell_type": "code",
   "execution_count": 69,
   "metadata": {
    "vscode": {
     "languageId": "r"
    }
   },
   "outputs": [],
   "source": [
    "age_wage_profile <- lm(ln_w ~ age + I(age^2), df_geih = df_geih)"
   ]
  },
  {
   "cell_type": "code",
   "execution_count": 70,
   "metadata": {
    "vscode": {
     "languageId": "r"
    }
   },
   "outputs": [
    {
     "data": {
      "text/plain": [
       "\n",
       "Call:\n",
       "lm(formula = ln_w ~ age + I(age^2), data = df_geih)\n",
       "\n",
       "Residuals:\n",
       "    Min      1Q  Median      3Q     Max \n",
       "-3.7449 -0.3833 -0.1060  0.3007  3.8503 \n",
       "\n",
       "Coefficients:\n",
       "              Estimate Std. Error t value Pr(>|t|)    \n",
       "(Intercept)  1.238e+01  7.335e-02  168.73   <2e-16 ***\n",
       "age          8.509e-02  3.878e-03   21.94   <2e-16 ***\n",
       "I(age^2)    -9.880e-04  4.773e-05  -20.70   <2e-16 ***\n",
       "---\n",
       "Signif. codes:  0 '***' 0.001 '**' 0.01 '*' 0.05 '.' 0.1 ' ' 1\n",
       "\n",
       "Residual standard error: 0.7423 on 9782 degrees of freedom\n",
       "Multiple R-squared:  0.05007,\tAdjusted R-squared:  0.04988 \n",
       "F-statistic: 257.8 on 2 and 9782 DF,  p-value: < 2.2e-16\n"
      ]
     },
     "metadata": {},
     "output_type": "display_data"
    }
   ],
   "source": [
    "summary(age_wage_profile)"
   ]
  }
 ],
 "metadata": {
  "kernelspec": {
   "display_name": "R",
   "language": "R",
   "name": "ir"
  },
  "language_info": {
   "codemirror_mode": "r",
   "file_extension": ".r",
   "mimetype": "text/x-r-source",
   "name": "R",
   "pygments_lexer": "r",
   "version": "4.4.1"
  }
 },
 "nbformat": 4,
 "nbformat_minor": 2
}
