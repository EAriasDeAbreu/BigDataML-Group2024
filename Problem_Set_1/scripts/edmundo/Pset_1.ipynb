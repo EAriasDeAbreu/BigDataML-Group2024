{
 "cells": [
  {
   "cell_type": "markdown",
   "metadata": {},
   "source": [
    "# Problem Set 1\n",
    "## Members\n",
    "    - Edmundo Arias – 202110688\n",
    "    - Lucia Maldonado –\n",
    "    - Juan Diego Heredia –\n",
    "\n",
    "### Date: September something, 2024"
   ]
  },
  {
   "cell_type": "markdown",
   "metadata": {},
   "source": [
    "# 0. Set Up"
   ]
  },
  {
   "cell_type": "code",
   "execution_count": 19,
   "metadata": {
    "vscode": {
     "languageId": "r"
    }
   },
   "outputs": [
    {
     "name": "stderr",
     "output_type": "stream",
     "text": [
      "Loading required package: future\n",
      "\n"
     ]
    }
   ],
   "source": [
    "# nolint start\n",
    "# clear environment and load libraries\n",
    "rm(list = ls())\n",
    "# nolint start\n",
    "\n",
    "# install and load required packages\n",
    "packages <- c(\n",
    "    \"tidyverse\", \"ggplot2\", \"stargazer\",\n",
    "    \"rvest\", \"dplyr\", \"httr\", \"boot\", \"broom\",\n",
    "    \"lmtest\", \"fixest\", \"sandwich\", \"lmtest\", \n",
    "    \"parallel\", \"foreach\", \"doParallel\",\n",
    "    \"future.apply\"\n",
    ")\n",
    "invisible(lapply(packages, function(pkg) {\n",
    "    if (!requireNamespace(pkg, quietly = TRUE)) install.packages(pkg)\n",
    "    library(pkg, character.only = TRUE)\n",
    "}))"
   ]
  },
  {
   "cell_type": "markdown",
   "metadata": {},
   "source": [
    "# 1. Data"
   ]
  },
  {
   "cell_type": "code",
   "execution_count": 20,
   "metadata": {
    "vscode": {
     "languageId": "r"
    }
   },
   "outputs": [],
   "source": [
    "plan(multisession) # Paralellizing\n",
    "\n",
    "# Define the scraping function\n",
    "scrape_page <- function(url) {\n",
    "  response <- GET(url)\n",
    "  if (status_code(response) != 200) {\n",
    "    warning(paste(\"Failed to retrieve page:\", url)) \n",
    "    return(NULL) \n",
    "  }\n",
    "  content <- content(response, \"text\")\n",
    "  page <- read_html(content)\n",
    "  include_element <- html_node(page, \"[w3-include-html]\")\n",
    "  include_url <- html_attr(include_element, \"w3-include-html\")\n",
    "  full_include_url <- paste0(\"https://ignaciomsarmiento.github.io/GEIH2018_sample/\", include_url)\n",
    "  included_content <- read_html(full_include_url)\n",
    "  df_page <- html_node(included_content, \"table\") %>% html_table()\n",
    "  return(df_page)\n",
    "}"
   ]
  },
  {
   "cell_type": "code",
   "execution_count": 21,
   "metadata": {
    "vscode": {
     "languageId": "r"
    }
   },
   "outputs": [
    {
     "name": "stdout",
     "output_type": "stream",
     "text": [
      "[1] \"Successfully scraped page 1\"\n",
      "[1] \"Successfully scraped page 2\"\n",
      "[1] \"Successfully scraped page 3\"\n",
      "[1] \"Successfully scraped page 4\"\n",
      "[1] \"Successfully scraped page 5\"\n",
      "[1] \"Successfully scraped page 6\"\n",
      "[1] \"Successfully scraped page 7\"\n",
      "[1] \"Successfully scraped page 8\"\n",
      "[1] \"Successfully scraped page 9\"\n",
      "[1] \"Successfully scraped page 10\"\n"
     ]
    }
   ],
   "source": [
    "base_url <- \"https://ignaciomsarmiento.github.io/GEIH2018_sample/page\"\n",
    "\n",
    "# Use future_lapply to run tasks asynchronously -> gracias Ignacio :)\n",
    "df_list <- future_lapply(1:10, function(i) {\n",
    "  url <- paste0(base_url, i, \".html\")\n",
    "  df_page <- scrape_page(url)\n",
    "  if (!is.null(df_page)) print(paste(\"Successfully scraped page\", i))  # Print status if successful\n",
    "  return(df_page)\n",
    "})\n",
    "df_list <- Filter(Negate(is.null), df_list)\n",
    "\n",
    "# combine\n",
    "df <- do.call(rbind, df_list)"
   ]
  },
  {
   "cell_type": "code",
   "execution_count": 22,
   "metadata": {
    "vscode": {
     "languageId": "r"
    }
   },
   "outputs": [
    {
     "data": {
      "text/html": [
       "<table class=\"dataframe\">\n",
       "<caption>A tibble: 32177 × 178</caption>\n",
       "<thead>\n",
       "\t<tr><th scope=col>Var.1</th><th scope=col>directorio</th><th scope=col>secuencia_p</th><th scope=col>orden</th><th scope=col>clase</th><th scope=col>dominio</th><th scope=col>mes</th><th scope=col>estrato1</th><th scope=col>sex</th><th scope=col>age</th><th scope=col>⋯</th><th scope=col>y_viaticos_m</th><th scope=col>y_accidentes_m</th><th scope=col>y_salarySec_m</th><th scope=col>y_ingLab_m_ha</th><th scope=col>y_gananciaNeta_m</th><th scope=col>y_gananciaNetaAgro_m</th><th scope=col>y_gananciaIndep_m</th><th scope=col>y_gananciaIndep_m_hu</th><th scope=col>y_total_m</th><th scope=col>y_total_m_ha</th></tr>\n",
       "\t<tr><th scope=col>&lt;int&gt;</th><th scope=col>&lt;int&gt;</th><th scope=col>&lt;int&gt;</th><th scope=col>&lt;int&gt;</th><th scope=col>&lt;int&gt;</th><th scope=col>&lt;chr&gt;</th><th scope=col>&lt;int&gt;</th><th scope=col>&lt;int&gt;</th><th scope=col>&lt;int&gt;</th><th scope=col>&lt;int&gt;</th><th scope=col>⋯</th><th scope=col>&lt;dbl&gt;</th><th scope=col>&lt;dbl&gt;</th><th scope=col>&lt;dbl&gt;</th><th scope=col>&lt;dbl&gt;</th><th scope=col>&lt;dbl&gt;</th><th scope=col>&lt;lgl&gt;</th><th scope=col>&lt;dbl&gt;</th><th scope=col>&lt;dbl&gt;</th><th scope=col>&lt;dbl&gt;</th><th scope=col>&lt;dbl&gt;</th></tr>\n",
       "</thead>\n",
       "<tbody>\n",
       "\t<tr><td> 1</td><td>4514331</td><td>1</td><td>2</td><td>1</td><td>BOGOTA</td><td>1</td><td>2</td><td>0</td><td>29</td><td>⋯</td><td>NA</td><td>NA</td><td>NA</td><td>      NA</td><td>NA</td><td>NA</td><td>NA</td><td>NA</td><td>     NA</td><td>      NA</td></tr>\n",
       "\t<tr><td> 2</td><td>4514331</td><td>1</td><td>1</td><td>1</td><td>BOGOTA</td><td>1</td><td>2</td><td>1</td><td>36</td><td>⋯</td><td>NA</td><td>NA</td><td>NA</td><td>8404.320</td><td>NA</td><td>NA</td><td>NA</td><td>NA</td><td>1620833</td><td>8404.320</td></tr>\n",
       "\t<tr><td> 3</td><td>4514332</td><td>1</td><td>4</td><td>1</td><td>BOGOTA</td><td>1</td><td>2</td><td>1</td><td> 4</td><td>⋯</td><td>NA</td><td>NA</td><td>NA</td><td>      NA</td><td>NA</td><td>NA</td><td>NA</td><td>NA</td><td>     NA</td><td>      NA</td></tr>\n",
       "\t<tr><td> 4</td><td>4514332</td><td>1</td><td>3</td><td>1</td><td>BOGOTA</td><td>1</td><td>2</td><td>1</td><td> 7</td><td>⋯</td><td>NA</td><td>NA</td><td>NA</td><td>      NA</td><td>NA</td><td>NA</td><td>NA</td><td>NA</td><td>     NA</td><td>      NA</td></tr>\n",
       "\t<tr><td> 5</td><td>4514332</td><td>1</td><td>1</td><td>1</td><td>BOGOTA</td><td>1</td><td>2</td><td>0</td><td>32</td><td>⋯</td><td>NA</td><td>NA</td><td>NA</td><td>      NA</td><td>NA</td><td>NA</td><td>NA</td><td>NA</td><td>     NA</td><td>      NA</td></tr>\n",
       "\t<tr><td> 6</td><td>4514332</td><td>1</td><td>2</td><td>1</td><td>BOGOTA</td><td>1</td><td>2</td><td>1</td><td>35</td><td>⋯</td><td>NA</td><td>NA</td><td>NA</td><td>      NA</td><td>NA</td><td>NA</td><td>NA</td><td>NA</td><td>     NA</td><td>      NA</td></tr>\n",
       "\t<tr><td> 7</td><td>4514333</td><td>1</td><td>4</td><td>1</td><td>BOGOTA</td><td>1</td><td>2</td><td>1</td><td>18</td><td>⋯</td><td>NA</td><td>NA</td><td>NA</td><td>      NA</td><td>NA</td><td>NA</td><td>NA</td><td>NA</td><td>     NA</td><td>      NA</td></tr>\n",
       "\t<tr><td> 8</td><td>4514333</td><td>1</td><td>2</td><td>1</td><td>BOGOTA</td><td>1</td><td>2</td><td>0</td><td>49</td><td>⋯</td><td>NA</td><td>NA</td><td>NA</td><td>      NA</td><td>NA</td><td>NA</td><td>NA</td><td>NA</td><td>     NA</td><td>      NA</td></tr>\n",
       "\t<tr><td> 9</td><td>4514333</td><td>1</td><td>1</td><td>1</td><td>BOGOTA</td><td>1</td><td>2</td><td>1</td><td>51</td><td>⋯</td><td>NA</td><td>NA</td><td>NA</td><td>6703.343</td><td>NA</td><td>NA</td><td>NA</td><td>NA</td><td>1378973</td><td>6703.343</td></tr>\n",
       "\t<tr><td>10</td><td>4514333</td><td>1</td><td>3</td><td>1</td><td>BOGOTA</td><td>1</td><td>2</td><td>0</td><td>23</td><td>⋯</td><td>NA</td><td>NA</td><td>NA</td><td>      NA</td><td>NA</td><td>NA</td><td>NA</td><td>NA</td><td>     NA</td><td>      NA</td></tr>\n",
       "\t<tr><td>11</td><td>4514334</td><td>1</td><td>5</td><td>1</td><td>BOGOTA</td><td>1</td><td>2</td><td>1</td><td>10</td><td>⋯</td><td>NA</td><td>NA</td><td>NA</td><td>      NA</td><td>NA</td><td>NA</td><td>NA</td><td>NA</td><td>     NA</td><td>      NA</td></tr>\n",
       "\t<tr><td>12</td><td>4514334</td><td>1</td><td>3</td><td>1</td><td>BOGOTA</td><td>1</td><td>2</td><td>0</td><td>18</td><td>⋯</td><td>NA</td><td>NA</td><td>NA</td><td>      NA</td><td>NA</td><td>NA</td><td>NA</td><td>NA</td><td>     NA</td><td>      NA</td></tr>\n",
       "\t<tr><td>13</td><td>4514334</td><td>1</td><td>4</td><td>1</td><td>BOGOTA</td><td>1</td><td>2</td><td>0</td><td>12</td><td>⋯</td><td>NA</td><td>NA</td><td>NA</td><td>      NA</td><td>NA</td><td>NA</td><td>NA</td><td>NA</td><td>     NA</td><td>      NA</td></tr>\n",
       "\t<tr><td>14</td><td>4514334</td><td>1</td><td>1</td><td>1</td><td>BOGOTA</td><td>1</td><td>2</td><td>1</td><td>45</td><td>⋯</td><td>NA</td><td>NA</td><td>NA</td><td>3680.654</td><td>NA</td><td>NA</td><td>NA</td><td>NA</td><td> 883357</td><td>3680.654</td></tr>\n",
       "\t<tr><td>15</td><td>4514334</td><td>1</td><td>2</td><td>1</td><td>BOGOTA</td><td>1</td><td>2</td><td>0</td><td>45</td><td>⋯</td><td>NA</td><td>NA</td><td>NA</td><td>      NA</td><td>NA</td><td>NA</td><td>NA</td><td>NA</td><td>     NA</td><td>      NA</td></tr>\n",
       "\t<tr><td>16</td><td>4514335</td><td>1</td><td>1</td><td>1</td><td>BOGOTA</td><td>1</td><td>2</td><td>1</td><td>61</td><td>⋯</td><td>NA</td><td>NA</td><td>NA</td><td>4083.333</td><td>NA</td><td>NA</td><td>NA</td><td>NA</td><td> 700000</td><td>4083.333</td></tr>\n",
       "\t<tr><td>17</td><td>4514335</td><td>1</td><td>2</td><td>1</td><td>BOGOTA</td><td>1</td><td>2</td><td>0</td><td>49</td><td>⋯</td><td>NA</td><td>NA</td><td>NA</td><td>      NA</td><td>NA</td><td>NA</td><td>NA</td><td>NA</td><td>     NA</td><td>      NA</td></tr>\n",
       "\t<tr><td>18</td><td>4514337</td><td>1</td><td>1</td><td>1</td><td>BOGOTA</td><td>1</td><td>2</td><td>1</td><td>68</td><td>⋯</td><td>NA</td><td>NA</td><td>NA</td><td>      NA</td><td>NA</td><td>NA</td><td>NA</td><td>NA</td><td>     NA</td><td>      NA</td></tr>\n",
       "\t<tr><td>19</td><td>4514337</td><td>1</td><td>2</td><td>1</td><td>BOGOTA</td><td>1</td><td>2</td><td>0</td><td>67</td><td>⋯</td><td>NA</td><td>NA</td><td>NA</td><td>      NA</td><td>NA</td><td>NA</td><td>NA</td><td>NA</td><td>     NA</td><td>      NA</td></tr>\n",
       "\t<tr><td>20</td><td>4514338</td><td>1</td><td>3</td><td>1</td><td>BOGOTA</td><td>1</td><td>2</td><td>1</td><td>10</td><td>⋯</td><td>NA</td><td>NA</td><td>NA</td><td>      NA</td><td>NA</td><td>NA</td><td>NA</td><td>NA</td><td>     NA</td><td>      NA</td></tr>\n",
       "\t<tr><td>21</td><td>4514338</td><td>1</td><td>1</td><td>1</td><td>BOGOTA</td><td>1</td><td>2</td><td>1</td><td>35</td><td>⋯</td><td>NA</td><td>NA</td><td>NA</td><td>      NA</td><td>NA</td><td>NA</td><td>NA</td><td>NA</td><td>     NA</td><td>      NA</td></tr>\n",
       "\t<tr><td>22</td><td>4514338</td><td>1</td><td>2</td><td>1</td><td>BOGOTA</td><td>1</td><td>2</td><td>0</td><td>35</td><td>⋯</td><td>NA</td><td>NA</td><td>NA</td><td>9437.848</td><td>NA</td><td>NA</td><td>NA</td><td>NA</td><td>1941500</td><td>9437.848</td></tr>\n",
       "\t<tr><td>23</td><td>4514339</td><td>1</td><td>1</td><td>1</td><td>BOGOTA</td><td>1</td><td>2</td><td>0</td><td>35</td><td>⋯</td><td>NA</td><td>NA</td><td>NA</td><td>6317.500</td><td>NA</td><td>NA</td><td>NA</td><td>NA</td><td>1083000</td><td>6317.500</td></tr>\n",
       "\t<tr><td>24</td><td>4514339</td><td>1</td><td>4</td><td>1</td><td>BOGOTA</td><td>1</td><td>2</td><td>0</td><td> 6</td><td>⋯</td><td>NA</td><td>NA</td><td>NA</td><td>      NA</td><td>NA</td><td>NA</td><td>NA</td><td>NA</td><td>     NA</td><td>      NA</td></tr>\n",
       "\t<tr><td>25</td><td>4514339</td><td>1</td><td>3</td><td>1</td><td>BOGOTA</td><td>1</td><td>2</td><td>0</td><td>11</td><td>⋯</td><td>NA</td><td>NA</td><td>NA</td><td>      NA</td><td>NA</td><td>NA</td><td>NA</td><td>NA</td><td>     NA</td><td>      NA</td></tr>\n",
       "\t<tr><td>26</td><td>4514339</td><td>1</td><td>2</td><td>1</td><td>BOGOTA</td><td>1</td><td>2</td><td>1</td><td>39</td><td>⋯</td><td>NA</td><td>NA</td><td>NA</td><td>8571.465</td><td>NA</td><td>NA</td><td>NA</td><td>NA</td><td>1616333</td><td>8571.465</td></tr>\n",
       "\t<tr><td>27</td><td>4514340</td><td>1</td><td>1</td><td>1</td><td>BOGOTA</td><td>1</td><td>2</td><td>0</td><td>77</td><td>⋯</td><td>NA</td><td>NA</td><td>NA</td><td>      NA</td><td>NA</td><td>NA</td><td>NA</td><td>NA</td><td>     NA</td><td>      NA</td></tr>\n",
       "\t<tr><td>28</td><td>4514341</td><td>1</td><td>2</td><td>1</td><td>BOGOTA</td><td>1</td><td>2</td><td>1</td><td> 0</td><td>⋯</td><td>NA</td><td>NA</td><td>NA</td><td>      NA</td><td>NA</td><td>NA</td><td>NA</td><td>NA</td><td>     NA</td><td>      NA</td></tr>\n",
       "\t<tr><td>29</td><td>4514341</td><td>1</td><td>1</td><td>1</td><td>BOGOTA</td><td>1</td><td>2</td><td>0</td><td>20</td><td>⋯</td><td>NA</td><td>NA</td><td>NA</td><td>      NA</td><td>NA</td><td>NA</td><td>NA</td><td>NA</td><td>     NA</td><td>      NA</td></tr>\n",
       "\t<tr><td>30</td><td>4514342</td><td>1</td><td>1</td><td>1</td><td>BOGOTA</td><td>1</td><td>2</td><td>0</td><td>54</td><td>⋯</td><td>NA</td><td>NA</td><td>NA</td><td>      NA</td><td>NA</td><td>NA</td><td>NA</td><td>NA</td><td>     NA</td><td>      NA</td></tr>\n",
       "\t<tr><td>⋮</td><td>⋮</td><td>⋮</td><td>⋮</td><td>⋮</td><td>⋮</td><td>⋮</td><td>⋮</td><td>⋮</td><td>⋮</td><td>⋱</td><td>⋮</td><td>⋮</td><td>⋮</td><td>⋮</td><td>⋮</td><td>⋮</td><td>⋮</td><td>⋮</td><td>⋮</td><td>⋮</td></tr>\n",
       "\t<tr><td>3188</td><td>4804413</td><td>1</td><td> 1</td><td>1</td><td>BOGOTA</td><td>12</td><td>2</td><td>0</td><td>25</td><td>⋯</td><td>   NA</td><td>NA</td><td>   NA</td><td>       NA</td><td>    NA</td><td>NA</td><td>    NA</td><td>      NA</td><td>       NA</td><td>       NA</td></tr>\n",
       "\t<tr><td>3189</td><td>4804413</td><td>1</td><td> 3</td><td>1</td><td>BOGOTA</td><td>12</td><td>2</td><td>1</td><td>25</td><td>⋯</td><td>   NA</td><td>NA</td><td>   NA</td><td>       NA</td><td>781242</td><td>NA</td><td>781242</td><td>3797.704</td><td> 781242.0</td><td> 3797.704</td></tr>\n",
       "\t<tr><td>3190</td><td>4804413</td><td>1</td><td> 2</td><td>1</td><td>BOGOTA</td><td>12</td><td>2</td><td>1</td><td> 6</td><td>⋯</td><td>   NA</td><td>NA</td><td>   NA</td><td>       NA</td><td>    NA</td><td>NA</td><td>    NA</td><td>      NA</td><td>       NA</td><td>       NA</td></tr>\n",
       "\t<tr><td>3191</td><td>4804413</td><td>2</td><td> 1</td><td>1</td><td>BOGOTA</td><td>12</td><td>2</td><td>1</td><td>25</td><td>⋯</td><td>   NA</td><td>NA</td><td>   NA</td><td> 8018.808</td><td>    NA</td><td>NA</td><td>    NA</td><td>      NA</td><td>1649583.4</td><td> 8018.808</td></tr>\n",
       "\t<tr><td>3192</td><td>4804452</td><td>1</td><td> 3</td><td>1</td><td>BOGOTA</td><td>12</td><td>3</td><td>1</td><td> 8</td><td>⋯</td><td>   NA</td><td>NA</td><td>   NA</td><td>       NA</td><td>    NA</td><td>NA</td><td>    NA</td><td>      NA</td><td>       NA</td><td>       NA</td></tr>\n",
       "\t<tr><td>3193</td><td>4804452</td><td>1</td><td> 7</td><td>1</td><td>BOGOTA</td><td>12</td><td>3</td><td>1</td><td>11</td><td>⋯</td><td>   NA</td><td>NA</td><td>   NA</td><td>       NA</td><td>    NA</td><td>NA</td><td>    NA</td><td>      NA</td><td>       NA</td><td>       NA</td></tr>\n",
       "\t<tr><td>3194</td><td>4804452</td><td>1</td><td> 8</td><td>1</td><td>BOGOTA</td><td>12</td><td>3</td><td>1</td><td> 1</td><td>⋯</td><td>   NA</td><td>NA</td><td>   NA</td><td>       NA</td><td>    NA</td><td>NA</td><td>    NA</td><td>      NA</td><td>       NA</td><td>       NA</td></tr>\n",
       "\t<tr><td>3195</td><td>4804452</td><td>1</td><td> 1</td><td>1</td><td>BOGOTA</td><td>12</td><td>3</td><td>1</td><td>39</td><td>⋯</td><td>   NA</td><td>NA</td><td>   NA</td><td> 2333.333</td><td>    NA</td><td>NA</td><td>    NA</td><td>      NA</td><td> 700000.0</td><td> 2333.333</td></tr>\n",
       "\t<tr><td>3196</td><td>4804452</td><td>1</td><td> 2</td><td>1</td><td>BOGOTA</td><td>12</td><td>3</td><td>0</td><td>24</td><td>⋯</td><td>   NA</td><td>NA</td><td>   NA</td><td> 2916.667</td><td>    NA</td><td>NA</td><td>    NA</td><td>      NA</td><td> 750000.0</td><td> 2916.667</td></tr>\n",
       "\t<tr><td>3197</td><td>4804452</td><td>1</td><td> 4</td><td>1</td><td>BOGOTA</td><td>12</td><td>3</td><td>0</td><td>48</td><td>⋯</td><td>   NA</td><td>NA</td><td>   NA</td><td>       NA</td><td>    NA</td><td>NA</td><td>    NA</td><td>      NA</td><td>       NA</td><td>       NA</td></tr>\n",
       "\t<tr><td>3198</td><td>4804452</td><td>1</td><td> 5</td><td>1</td><td>BOGOTA</td><td>12</td><td>3</td><td>0</td><td>29</td><td>⋯</td><td>   NA</td><td>NA</td><td>50000</td><td> 2333.333</td><td>    NA</td><td>NA</td><td>    NA</td><td>      NA</td><td> 500000.0</td><td> 2333.333</td></tr>\n",
       "\t<tr><td>3199</td><td>4804452</td><td>1</td><td> 6</td><td>1</td><td>BOGOTA</td><td>12</td><td>3</td><td>1</td><td>27</td><td>⋯</td><td>   NA</td><td>NA</td><td>   NA</td><td> 2722.222</td><td>    NA</td><td>NA</td><td>    NA</td><td>      NA</td><td> 700000.0</td><td> 2722.222</td></tr>\n",
       "\t<tr><td>3200</td><td>4804453</td><td>1</td><td> 1</td><td>1</td><td>BOGOTA</td><td>12</td><td>3</td><td>1</td><td>79</td><td>⋯</td><td>   NA</td><td>NA</td><td>   NA</td><td>       NA</td><td>600000</td><td>NA</td><td>600000</td><td>9333.333</td><td> 600000.0</td><td> 9333.333</td></tr>\n",
       "\t<tr><td>3201</td><td>4804453</td><td>1</td><td> 2</td><td>1</td><td>BOGOTA</td><td>12</td><td>3</td><td>0</td><td>76</td><td>⋯</td><td>   NA</td><td>NA</td><td>   NA</td><td>       NA</td><td>    NA</td><td>NA</td><td>    NA</td><td>      NA</td><td>       NA</td><td>       NA</td></tr>\n",
       "\t<tr><td>3202</td><td>4804453</td><td>1</td><td> 3</td><td>1</td><td>BOGOTA</td><td>12</td><td>3</td><td>0</td><td>52</td><td>⋯</td><td>   NA</td><td>NA</td><td>   NA</td><td>       NA</td><td> 70000</td><td>NA</td><td> 70000</td><td>3266.667</td><td>  70000.0</td><td> 3266.667</td></tr>\n",
       "\t<tr><td>3203</td><td>4804453</td><td>1</td><td> 4</td><td>1</td><td>BOGOTA</td><td>12</td><td>3</td><td>0</td><td>54</td><td>⋯</td><td>   NA</td><td>NA</td><td>   NA</td><td>       NA</td><td>    NA</td><td>NA</td><td>    NA</td><td>      NA</td><td>       NA</td><td>       NA</td></tr>\n",
       "\t<tr><td>3204</td><td>4804453</td><td>1</td><td> 5</td><td>1</td><td>BOGOTA</td><td>12</td><td>3</td><td>1</td><td>64</td><td>⋯</td><td>   NA</td><td>NA</td><td>   NA</td><td>       NA</td><td>700000</td><td>NA</td><td>700000</td><td>3402.778</td><td> 700000.0</td><td> 3402.778</td></tr>\n",
       "\t<tr><td>3205</td><td>4804453</td><td>1</td><td> 6</td><td>1</td><td>BOGOTA</td><td>12</td><td>3</td><td>1</td><td>24</td><td>⋯</td><td>   NA</td><td>NA</td><td>   NA</td><td> 5288.889</td><td>    NA</td><td>NA</td><td>    NA</td><td>      NA</td><td>1088000.0</td><td> 5288.889</td></tr>\n",
       "\t<tr><td>3206</td><td>4804453</td><td>1</td><td> 7</td><td>1</td><td>BOGOTA</td><td>12</td><td>3</td><td>1</td><td>20</td><td>⋯</td><td>   NA</td><td>NA</td><td>   NA</td><td>       NA</td><td>    NA</td><td>NA</td><td>    NA</td><td>      NA</td><td>       NA</td><td>       NA</td></tr>\n",
       "\t<tr><td>3207</td><td>4804453</td><td>1</td><td> 8</td><td>1</td><td>BOGOTA</td><td>12</td><td>3</td><td>0</td><td>50</td><td>⋯</td><td>   NA</td><td>NA</td><td>   NA</td><td> 4864.127</td><td>    NA</td><td>NA</td><td>    NA</td><td>      NA</td><td>1146544.4</td><td> 4864.127</td></tr>\n",
       "\t<tr><td>3208</td><td>4804453</td><td>1</td><td> 9</td><td>1</td><td>BOGOTA</td><td>12</td><td>3</td><td>1</td><td>23</td><td>⋯</td><td>   NA</td><td>NA</td><td>   NA</td><td>       NA</td><td>200000</td><td>NA</td><td>200000</td><td>9333.333</td><td> 200000.0</td><td> 9333.333</td></tr>\n",
       "\t<tr><td>3209</td><td>4804453</td><td>1</td><td>10</td><td>1</td><td>BOGOTA</td><td>12</td><td>3</td><td>0</td><td>15</td><td>⋯</td><td>   NA</td><td>NA</td><td>   NA</td><td>       NA</td><td>    NA</td><td>NA</td><td>    NA</td><td>      NA</td><td>       NA</td><td>       NA</td></tr>\n",
       "\t<tr><td>3210</td><td>4804454</td><td>1</td><td> 3</td><td>1</td><td>BOGOTA</td><td>12</td><td>2</td><td>1</td><td> 4</td><td>⋯</td><td>   NA</td><td>NA</td><td>   NA</td><td>       NA</td><td>    NA</td><td>NA</td><td>    NA</td><td>      NA</td><td>       NA</td><td>       NA</td></tr>\n",
       "\t<tr><td>3211</td><td>4804454</td><td>1</td><td> 4</td><td>1</td><td>BOGOTA</td><td>12</td><td>2</td><td>1</td><td> 2</td><td>⋯</td><td>   NA</td><td>NA</td><td>   NA</td><td>       NA</td><td>    NA</td><td>NA</td><td>    NA</td><td>      NA</td><td>       NA</td><td>       NA</td></tr>\n",
       "\t<tr><td>3212</td><td>4804454</td><td>1</td><td> 1</td><td>1</td><td>BOGOTA</td><td>12</td><td>2</td><td>1</td><td>27</td><td>⋯</td><td>   NA</td><td>NA</td><td>   NA</td><td> 4453.359</td><td>    NA</td><td>NA</td><td>    NA</td><td>      NA</td><td> 916119.7</td><td> 4453.359</td></tr>\n",
       "\t<tr><td>3213</td><td>4804454</td><td>1</td><td> 2</td><td>1</td><td>BOGOTA</td><td>12</td><td>2</td><td>0</td><td>24</td><td>⋯</td><td>   NA</td><td>NA</td><td>   NA</td><td> 3345.556</td><td>    NA</td><td>NA</td><td>    NA</td><td>      NA</td><td>1003666.7</td><td> 3345.556</td></tr>\n",
       "\t<tr><td>3214</td><td>4804455</td><td>1</td><td> 1</td><td>1</td><td>BOGOTA</td><td>12</td><td>3</td><td>0</td><td>36</td><td>⋯</td><td>5e+05</td><td>NA</td><td>   NA</td><td>25958.334</td><td>    NA</td><td>NA</td><td>    NA</td><td>      NA</td><td>6675000.0</td><td>25958.334</td></tr>\n",
       "\t<tr><td>3215</td><td>4804455</td><td>1</td><td> 2</td><td>1</td><td>BOGOTA</td><td>12</td><td>3</td><td>1</td><td>41</td><td>⋯</td><td>   NA</td><td>NA</td><td>   NA</td><td>       NA</td><td>    NA</td><td>NA</td><td>    NA</td><td>      NA</td><td>       NA</td><td>       NA</td></tr>\n",
       "\t<tr><td>3216</td><td>4804455</td><td>1</td><td> 3</td><td>1</td><td>BOGOTA</td><td>12</td><td>3</td><td>1</td><td> 8</td><td>⋯</td><td>   NA</td><td>NA</td><td>   NA</td><td>       NA</td><td>    NA</td><td>NA</td><td>    NA</td><td>      NA</td><td>       NA</td><td>       NA</td></tr>\n",
       "\t<tr><td>3217</td><td>4804455</td><td>1</td><td> 4</td><td>1</td><td>BOGOTA</td><td>12</td><td>3</td><td>0</td><td> 0</td><td>⋯</td><td>   NA</td><td>NA</td><td>   NA</td><td>       NA</td><td>    NA</td><td>NA</td><td>    NA</td><td>      NA</td><td>       NA</td><td>       NA</td></tr>\n",
       "</tbody>\n",
       "</table>\n"
      ],
      "text/latex": [
       "A tibble: 32177 × 178\n",
       "\\begin{tabular}{lllllllllllllllllllll}\n",
       " Var.1 & directorio & secuencia\\_p & orden & clase & dominio & mes & estrato1 & sex & age & ⋯ & y\\_viaticos\\_m & y\\_accidentes\\_m & y\\_salarySec\\_m & y\\_ingLab\\_m\\_ha & y\\_gananciaNeta\\_m & y\\_gananciaNetaAgro\\_m & y\\_gananciaIndep\\_m & y\\_gananciaIndep\\_m\\_hu & y\\_total\\_m & y\\_total\\_m\\_ha\\\\\n",
       " <int> & <int> & <int> & <int> & <int> & <chr> & <int> & <int> & <int> & <int> & ⋯ & <dbl> & <dbl> & <dbl> & <dbl> & <dbl> & <lgl> & <dbl> & <dbl> & <dbl> & <dbl>\\\\\n",
       "\\hline\n",
       "\t  1 & 4514331 & 1 & 2 & 1 & BOGOTA & 1 & 2 & 0 & 29 & ⋯ & NA & NA & NA &       NA & NA & NA & NA & NA &      NA &       NA\\\\\n",
       "\t  2 & 4514331 & 1 & 1 & 1 & BOGOTA & 1 & 2 & 1 & 36 & ⋯ & NA & NA & NA & 8404.320 & NA & NA & NA & NA & 1620833 & 8404.320\\\\\n",
       "\t  3 & 4514332 & 1 & 4 & 1 & BOGOTA & 1 & 2 & 1 &  4 & ⋯ & NA & NA & NA &       NA & NA & NA & NA & NA &      NA &       NA\\\\\n",
       "\t  4 & 4514332 & 1 & 3 & 1 & BOGOTA & 1 & 2 & 1 &  7 & ⋯ & NA & NA & NA &       NA & NA & NA & NA & NA &      NA &       NA\\\\\n",
       "\t  5 & 4514332 & 1 & 1 & 1 & BOGOTA & 1 & 2 & 0 & 32 & ⋯ & NA & NA & NA &       NA & NA & NA & NA & NA &      NA &       NA\\\\\n",
       "\t  6 & 4514332 & 1 & 2 & 1 & BOGOTA & 1 & 2 & 1 & 35 & ⋯ & NA & NA & NA &       NA & NA & NA & NA & NA &      NA &       NA\\\\\n",
       "\t  7 & 4514333 & 1 & 4 & 1 & BOGOTA & 1 & 2 & 1 & 18 & ⋯ & NA & NA & NA &       NA & NA & NA & NA & NA &      NA &       NA\\\\\n",
       "\t  8 & 4514333 & 1 & 2 & 1 & BOGOTA & 1 & 2 & 0 & 49 & ⋯ & NA & NA & NA &       NA & NA & NA & NA & NA &      NA &       NA\\\\\n",
       "\t  9 & 4514333 & 1 & 1 & 1 & BOGOTA & 1 & 2 & 1 & 51 & ⋯ & NA & NA & NA & 6703.343 & NA & NA & NA & NA & 1378973 & 6703.343\\\\\n",
       "\t 10 & 4514333 & 1 & 3 & 1 & BOGOTA & 1 & 2 & 0 & 23 & ⋯ & NA & NA & NA &       NA & NA & NA & NA & NA &      NA &       NA\\\\\n",
       "\t 11 & 4514334 & 1 & 5 & 1 & BOGOTA & 1 & 2 & 1 & 10 & ⋯ & NA & NA & NA &       NA & NA & NA & NA & NA &      NA &       NA\\\\\n",
       "\t 12 & 4514334 & 1 & 3 & 1 & BOGOTA & 1 & 2 & 0 & 18 & ⋯ & NA & NA & NA &       NA & NA & NA & NA & NA &      NA &       NA\\\\\n",
       "\t 13 & 4514334 & 1 & 4 & 1 & BOGOTA & 1 & 2 & 0 & 12 & ⋯ & NA & NA & NA &       NA & NA & NA & NA & NA &      NA &       NA\\\\\n",
       "\t 14 & 4514334 & 1 & 1 & 1 & BOGOTA & 1 & 2 & 1 & 45 & ⋯ & NA & NA & NA & 3680.654 & NA & NA & NA & NA &  883357 & 3680.654\\\\\n",
       "\t 15 & 4514334 & 1 & 2 & 1 & BOGOTA & 1 & 2 & 0 & 45 & ⋯ & NA & NA & NA &       NA & NA & NA & NA & NA &      NA &       NA\\\\\n",
       "\t 16 & 4514335 & 1 & 1 & 1 & BOGOTA & 1 & 2 & 1 & 61 & ⋯ & NA & NA & NA & 4083.333 & NA & NA & NA & NA &  700000 & 4083.333\\\\\n",
       "\t 17 & 4514335 & 1 & 2 & 1 & BOGOTA & 1 & 2 & 0 & 49 & ⋯ & NA & NA & NA &       NA & NA & NA & NA & NA &      NA &       NA\\\\\n",
       "\t 18 & 4514337 & 1 & 1 & 1 & BOGOTA & 1 & 2 & 1 & 68 & ⋯ & NA & NA & NA &       NA & NA & NA & NA & NA &      NA &       NA\\\\\n",
       "\t 19 & 4514337 & 1 & 2 & 1 & BOGOTA & 1 & 2 & 0 & 67 & ⋯ & NA & NA & NA &       NA & NA & NA & NA & NA &      NA &       NA\\\\\n",
       "\t 20 & 4514338 & 1 & 3 & 1 & BOGOTA & 1 & 2 & 1 & 10 & ⋯ & NA & NA & NA &       NA & NA & NA & NA & NA &      NA &       NA\\\\\n",
       "\t 21 & 4514338 & 1 & 1 & 1 & BOGOTA & 1 & 2 & 1 & 35 & ⋯ & NA & NA & NA &       NA & NA & NA & NA & NA &      NA &       NA\\\\\n",
       "\t 22 & 4514338 & 1 & 2 & 1 & BOGOTA & 1 & 2 & 0 & 35 & ⋯ & NA & NA & NA & 9437.848 & NA & NA & NA & NA & 1941500 & 9437.848\\\\\n",
       "\t 23 & 4514339 & 1 & 1 & 1 & BOGOTA & 1 & 2 & 0 & 35 & ⋯ & NA & NA & NA & 6317.500 & NA & NA & NA & NA & 1083000 & 6317.500\\\\\n",
       "\t 24 & 4514339 & 1 & 4 & 1 & BOGOTA & 1 & 2 & 0 &  6 & ⋯ & NA & NA & NA &       NA & NA & NA & NA & NA &      NA &       NA\\\\\n",
       "\t 25 & 4514339 & 1 & 3 & 1 & BOGOTA & 1 & 2 & 0 & 11 & ⋯ & NA & NA & NA &       NA & NA & NA & NA & NA &      NA &       NA\\\\\n",
       "\t 26 & 4514339 & 1 & 2 & 1 & BOGOTA & 1 & 2 & 1 & 39 & ⋯ & NA & NA & NA & 8571.465 & NA & NA & NA & NA & 1616333 & 8571.465\\\\\n",
       "\t 27 & 4514340 & 1 & 1 & 1 & BOGOTA & 1 & 2 & 0 & 77 & ⋯ & NA & NA & NA &       NA & NA & NA & NA & NA &      NA &       NA\\\\\n",
       "\t 28 & 4514341 & 1 & 2 & 1 & BOGOTA & 1 & 2 & 1 &  0 & ⋯ & NA & NA & NA &       NA & NA & NA & NA & NA &      NA &       NA\\\\\n",
       "\t 29 & 4514341 & 1 & 1 & 1 & BOGOTA & 1 & 2 & 0 & 20 & ⋯ & NA & NA & NA &       NA & NA & NA & NA & NA &      NA &       NA\\\\\n",
       "\t 30 & 4514342 & 1 & 1 & 1 & BOGOTA & 1 & 2 & 0 & 54 & ⋯ & NA & NA & NA &       NA & NA & NA & NA & NA &      NA &       NA\\\\\n",
       "\t ⋮ & ⋮ & ⋮ & ⋮ & ⋮ & ⋮ & ⋮ & ⋮ & ⋮ & ⋮ & ⋱ & ⋮ & ⋮ & ⋮ & ⋮ & ⋮ & ⋮ & ⋮ & ⋮ & ⋮ & ⋮\\\\\n",
       "\t 3188 & 4804413 & 1 &  1 & 1 & BOGOTA & 12 & 2 & 0 & 25 & ⋯ &    NA & NA &    NA &        NA &     NA & NA &     NA &       NA &        NA &        NA\\\\\n",
       "\t 3189 & 4804413 & 1 &  3 & 1 & BOGOTA & 12 & 2 & 1 & 25 & ⋯ &    NA & NA &    NA &        NA & 781242 & NA & 781242 & 3797.704 &  781242.0 &  3797.704\\\\\n",
       "\t 3190 & 4804413 & 1 &  2 & 1 & BOGOTA & 12 & 2 & 1 &  6 & ⋯ &    NA & NA &    NA &        NA &     NA & NA &     NA &       NA &        NA &        NA\\\\\n",
       "\t 3191 & 4804413 & 2 &  1 & 1 & BOGOTA & 12 & 2 & 1 & 25 & ⋯ &    NA & NA &    NA &  8018.808 &     NA & NA &     NA &       NA & 1649583.4 &  8018.808\\\\\n",
       "\t 3192 & 4804452 & 1 &  3 & 1 & BOGOTA & 12 & 3 & 1 &  8 & ⋯ &    NA & NA &    NA &        NA &     NA & NA &     NA &       NA &        NA &        NA\\\\\n",
       "\t 3193 & 4804452 & 1 &  7 & 1 & BOGOTA & 12 & 3 & 1 & 11 & ⋯ &    NA & NA &    NA &        NA &     NA & NA &     NA &       NA &        NA &        NA\\\\\n",
       "\t 3194 & 4804452 & 1 &  8 & 1 & BOGOTA & 12 & 3 & 1 &  1 & ⋯ &    NA & NA &    NA &        NA &     NA & NA &     NA &       NA &        NA &        NA\\\\\n",
       "\t 3195 & 4804452 & 1 &  1 & 1 & BOGOTA & 12 & 3 & 1 & 39 & ⋯ &    NA & NA &    NA &  2333.333 &     NA & NA &     NA &       NA &  700000.0 &  2333.333\\\\\n",
       "\t 3196 & 4804452 & 1 &  2 & 1 & BOGOTA & 12 & 3 & 0 & 24 & ⋯ &    NA & NA &    NA &  2916.667 &     NA & NA &     NA &       NA &  750000.0 &  2916.667\\\\\n",
       "\t 3197 & 4804452 & 1 &  4 & 1 & BOGOTA & 12 & 3 & 0 & 48 & ⋯ &    NA & NA &    NA &        NA &     NA & NA &     NA &       NA &        NA &        NA\\\\\n",
       "\t 3198 & 4804452 & 1 &  5 & 1 & BOGOTA & 12 & 3 & 0 & 29 & ⋯ &    NA & NA & 50000 &  2333.333 &     NA & NA &     NA &       NA &  500000.0 &  2333.333\\\\\n",
       "\t 3199 & 4804452 & 1 &  6 & 1 & BOGOTA & 12 & 3 & 1 & 27 & ⋯ &    NA & NA &    NA &  2722.222 &     NA & NA &     NA &       NA &  700000.0 &  2722.222\\\\\n",
       "\t 3200 & 4804453 & 1 &  1 & 1 & BOGOTA & 12 & 3 & 1 & 79 & ⋯ &    NA & NA &    NA &        NA & 600000 & NA & 600000 & 9333.333 &  600000.0 &  9333.333\\\\\n",
       "\t 3201 & 4804453 & 1 &  2 & 1 & BOGOTA & 12 & 3 & 0 & 76 & ⋯ &    NA & NA &    NA &        NA &     NA & NA &     NA &       NA &        NA &        NA\\\\\n",
       "\t 3202 & 4804453 & 1 &  3 & 1 & BOGOTA & 12 & 3 & 0 & 52 & ⋯ &    NA & NA &    NA &        NA &  70000 & NA &  70000 & 3266.667 &   70000.0 &  3266.667\\\\\n",
       "\t 3203 & 4804453 & 1 &  4 & 1 & BOGOTA & 12 & 3 & 0 & 54 & ⋯ &    NA & NA &    NA &        NA &     NA & NA &     NA &       NA &        NA &        NA\\\\\n",
       "\t 3204 & 4804453 & 1 &  5 & 1 & BOGOTA & 12 & 3 & 1 & 64 & ⋯ &    NA & NA &    NA &        NA & 700000 & NA & 700000 & 3402.778 &  700000.0 &  3402.778\\\\\n",
       "\t 3205 & 4804453 & 1 &  6 & 1 & BOGOTA & 12 & 3 & 1 & 24 & ⋯ &    NA & NA &    NA &  5288.889 &     NA & NA &     NA &       NA & 1088000.0 &  5288.889\\\\\n",
       "\t 3206 & 4804453 & 1 &  7 & 1 & BOGOTA & 12 & 3 & 1 & 20 & ⋯ &    NA & NA &    NA &        NA &     NA & NA &     NA &       NA &        NA &        NA\\\\\n",
       "\t 3207 & 4804453 & 1 &  8 & 1 & BOGOTA & 12 & 3 & 0 & 50 & ⋯ &    NA & NA &    NA &  4864.127 &     NA & NA &     NA &       NA & 1146544.4 &  4864.127\\\\\n",
       "\t 3208 & 4804453 & 1 &  9 & 1 & BOGOTA & 12 & 3 & 1 & 23 & ⋯ &    NA & NA &    NA &        NA & 200000 & NA & 200000 & 9333.333 &  200000.0 &  9333.333\\\\\n",
       "\t 3209 & 4804453 & 1 & 10 & 1 & BOGOTA & 12 & 3 & 0 & 15 & ⋯ &    NA & NA &    NA &        NA &     NA & NA &     NA &       NA &        NA &        NA\\\\\n",
       "\t 3210 & 4804454 & 1 &  3 & 1 & BOGOTA & 12 & 2 & 1 &  4 & ⋯ &    NA & NA &    NA &        NA &     NA & NA &     NA &       NA &        NA &        NA\\\\\n",
       "\t 3211 & 4804454 & 1 &  4 & 1 & BOGOTA & 12 & 2 & 1 &  2 & ⋯ &    NA & NA &    NA &        NA &     NA & NA &     NA &       NA &        NA &        NA\\\\\n",
       "\t 3212 & 4804454 & 1 &  1 & 1 & BOGOTA & 12 & 2 & 1 & 27 & ⋯ &    NA & NA &    NA &  4453.359 &     NA & NA &     NA &       NA &  916119.7 &  4453.359\\\\\n",
       "\t 3213 & 4804454 & 1 &  2 & 1 & BOGOTA & 12 & 2 & 0 & 24 & ⋯ &    NA & NA &    NA &  3345.556 &     NA & NA &     NA &       NA & 1003666.7 &  3345.556\\\\\n",
       "\t 3214 & 4804455 & 1 &  1 & 1 & BOGOTA & 12 & 3 & 0 & 36 & ⋯ & 5e+05 & NA &    NA & 25958.334 &     NA & NA &     NA &       NA & 6675000.0 & 25958.334\\\\\n",
       "\t 3215 & 4804455 & 1 &  2 & 1 & BOGOTA & 12 & 3 & 1 & 41 & ⋯ &    NA & NA &    NA &        NA &     NA & NA &     NA &       NA &        NA &        NA\\\\\n",
       "\t 3216 & 4804455 & 1 &  3 & 1 & BOGOTA & 12 & 3 & 1 &  8 & ⋯ &    NA & NA &    NA &        NA &     NA & NA &     NA &       NA &        NA &        NA\\\\\n",
       "\t 3217 & 4804455 & 1 &  4 & 1 & BOGOTA & 12 & 3 & 0 &  0 & ⋯ &    NA & NA &    NA &        NA &     NA & NA &     NA &       NA &        NA &        NA\\\\\n",
       "\\end{tabular}\n"
      ],
      "text/markdown": [
       "\n",
       "A tibble: 32177 × 178\n",
       "\n",
       "| Var.1 &lt;int&gt; | directorio &lt;int&gt; | secuencia_p &lt;int&gt; | orden &lt;int&gt; | clase &lt;int&gt; | dominio &lt;chr&gt; | mes &lt;int&gt; | estrato1 &lt;int&gt; | sex &lt;int&gt; | age &lt;int&gt; | ⋯ ⋯ | y_viaticos_m &lt;dbl&gt; | y_accidentes_m &lt;dbl&gt; | y_salarySec_m &lt;dbl&gt; | y_ingLab_m_ha &lt;dbl&gt; | y_gananciaNeta_m &lt;dbl&gt; | y_gananciaNetaAgro_m &lt;lgl&gt; | y_gananciaIndep_m &lt;dbl&gt; | y_gananciaIndep_m_hu &lt;dbl&gt; | y_total_m &lt;dbl&gt; | y_total_m_ha &lt;dbl&gt; |\n",
       "|---|---|---|---|---|---|---|---|---|---|---|---|---|---|---|---|---|---|---|---|---|\n",
       "|  1 | 4514331 | 1 | 2 | 1 | BOGOTA | 1 | 2 | 0 | 29 | ⋯ | NA | NA | NA |       NA | NA | NA | NA | NA |      NA |       NA |\n",
       "|  2 | 4514331 | 1 | 1 | 1 | BOGOTA | 1 | 2 | 1 | 36 | ⋯ | NA | NA | NA | 8404.320 | NA | NA | NA | NA | 1620833 | 8404.320 |\n",
       "|  3 | 4514332 | 1 | 4 | 1 | BOGOTA | 1 | 2 | 1 |  4 | ⋯ | NA | NA | NA |       NA | NA | NA | NA | NA |      NA |       NA |\n",
       "|  4 | 4514332 | 1 | 3 | 1 | BOGOTA | 1 | 2 | 1 |  7 | ⋯ | NA | NA | NA |       NA | NA | NA | NA | NA |      NA |       NA |\n",
       "|  5 | 4514332 | 1 | 1 | 1 | BOGOTA | 1 | 2 | 0 | 32 | ⋯ | NA | NA | NA |       NA | NA | NA | NA | NA |      NA |       NA |\n",
       "|  6 | 4514332 | 1 | 2 | 1 | BOGOTA | 1 | 2 | 1 | 35 | ⋯ | NA | NA | NA |       NA | NA | NA | NA | NA |      NA |       NA |\n",
       "|  7 | 4514333 | 1 | 4 | 1 | BOGOTA | 1 | 2 | 1 | 18 | ⋯ | NA | NA | NA |       NA | NA | NA | NA | NA |      NA |       NA |\n",
       "|  8 | 4514333 | 1 | 2 | 1 | BOGOTA | 1 | 2 | 0 | 49 | ⋯ | NA | NA | NA |       NA | NA | NA | NA | NA |      NA |       NA |\n",
       "|  9 | 4514333 | 1 | 1 | 1 | BOGOTA | 1 | 2 | 1 | 51 | ⋯ | NA | NA | NA | 6703.343 | NA | NA | NA | NA | 1378973 | 6703.343 |\n",
       "| 10 | 4514333 | 1 | 3 | 1 | BOGOTA | 1 | 2 | 0 | 23 | ⋯ | NA | NA | NA |       NA | NA | NA | NA | NA |      NA |       NA |\n",
       "| 11 | 4514334 | 1 | 5 | 1 | BOGOTA | 1 | 2 | 1 | 10 | ⋯ | NA | NA | NA |       NA | NA | NA | NA | NA |      NA |       NA |\n",
       "| 12 | 4514334 | 1 | 3 | 1 | BOGOTA | 1 | 2 | 0 | 18 | ⋯ | NA | NA | NA |       NA | NA | NA | NA | NA |      NA |       NA |\n",
       "| 13 | 4514334 | 1 | 4 | 1 | BOGOTA | 1 | 2 | 0 | 12 | ⋯ | NA | NA | NA |       NA | NA | NA | NA | NA |      NA |       NA |\n",
       "| 14 | 4514334 | 1 | 1 | 1 | BOGOTA | 1 | 2 | 1 | 45 | ⋯ | NA | NA | NA | 3680.654 | NA | NA | NA | NA |  883357 | 3680.654 |\n",
       "| 15 | 4514334 | 1 | 2 | 1 | BOGOTA | 1 | 2 | 0 | 45 | ⋯ | NA | NA | NA |       NA | NA | NA | NA | NA |      NA |       NA |\n",
       "| 16 | 4514335 | 1 | 1 | 1 | BOGOTA | 1 | 2 | 1 | 61 | ⋯ | NA | NA | NA | 4083.333 | NA | NA | NA | NA |  700000 | 4083.333 |\n",
       "| 17 | 4514335 | 1 | 2 | 1 | BOGOTA | 1 | 2 | 0 | 49 | ⋯ | NA | NA | NA |       NA | NA | NA | NA | NA |      NA |       NA |\n",
       "| 18 | 4514337 | 1 | 1 | 1 | BOGOTA | 1 | 2 | 1 | 68 | ⋯ | NA | NA | NA |       NA | NA | NA | NA | NA |      NA |       NA |\n",
       "| 19 | 4514337 | 1 | 2 | 1 | BOGOTA | 1 | 2 | 0 | 67 | ⋯ | NA | NA | NA |       NA | NA | NA | NA | NA |      NA |       NA |\n",
       "| 20 | 4514338 | 1 | 3 | 1 | BOGOTA | 1 | 2 | 1 | 10 | ⋯ | NA | NA | NA |       NA | NA | NA | NA | NA |      NA |       NA |\n",
       "| 21 | 4514338 | 1 | 1 | 1 | BOGOTA | 1 | 2 | 1 | 35 | ⋯ | NA | NA | NA |       NA | NA | NA | NA | NA |      NA |       NA |\n",
       "| 22 | 4514338 | 1 | 2 | 1 | BOGOTA | 1 | 2 | 0 | 35 | ⋯ | NA | NA | NA | 9437.848 | NA | NA | NA | NA | 1941500 | 9437.848 |\n",
       "| 23 | 4514339 | 1 | 1 | 1 | BOGOTA | 1 | 2 | 0 | 35 | ⋯ | NA | NA | NA | 6317.500 | NA | NA | NA | NA | 1083000 | 6317.500 |\n",
       "| 24 | 4514339 | 1 | 4 | 1 | BOGOTA | 1 | 2 | 0 |  6 | ⋯ | NA | NA | NA |       NA | NA | NA | NA | NA |      NA |       NA |\n",
       "| 25 | 4514339 | 1 | 3 | 1 | BOGOTA | 1 | 2 | 0 | 11 | ⋯ | NA | NA | NA |       NA | NA | NA | NA | NA |      NA |       NA |\n",
       "| 26 | 4514339 | 1 | 2 | 1 | BOGOTA | 1 | 2 | 1 | 39 | ⋯ | NA | NA | NA | 8571.465 | NA | NA | NA | NA | 1616333 | 8571.465 |\n",
       "| 27 | 4514340 | 1 | 1 | 1 | BOGOTA | 1 | 2 | 0 | 77 | ⋯ | NA | NA | NA |       NA | NA | NA | NA | NA |      NA |       NA |\n",
       "| 28 | 4514341 | 1 | 2 | 1 | BOGOTA | 1 | 2 | 1 |  0 | ⋯ | NA | NA | NA |       NA | NA | NA | NA | NA |      NA |       NA |\n",
       "| 29 | 4514341 | 1 | 1 | 1 | BOGOTA | 1 | 2 | 0 | 20 | ⋯ | NA | NA | NA |       NA | NA | NA | NA | NA |      NA |       NA |\n",
       "| 30 | 4514342 | 1 | 1 | 1 | BOGOTA | 1 | 2 | 0 | 54 | ⋯ | NA | NA | NA |       NA | NA | NA | NA | NA |      NA |       NA |\n",
       "| ⋮ | ⋮ | ⋮ | ⋮ | ⋮ | ⋮ | ⋮ | ⋮ | ⋮ | ⋮ | ⋱ | ⋮ | ⋮ | ⋮ | ⋮ | ⋮ | ⋮ | ⋮ | ⋮ | ⋮ | ⋮ |\n",
       "| 3188 | 4804413 | 1 |  1 | 1 | BOGOTA | 12 | 2 | 0 | 25 | ⋯ |    NA | NA |    NA |        NA |     NA | NA |     NA |       NA |        NA |        NA |\n",
       "| 3189 | 4804413 | 1 |  3 | 1 | BOGOTA | 12 | 2 | 1 | 25 | ⋯ |    NA | NA |    NA |        NA | 781242 | NA | 781242 | 3797.704 |  781242.0 |  3797.704 |\n",
       "| 3190 | 4804413 | 1 |  2 | 1 | BOGOTA | 12 | 2 | 1 |  6 | ⋯ |    NA | NA |    NA |        NA |     NA | NA |     NA |       NA |        NA |        NA |\n",
       "| 3191 | 4804413 | 2 |  1 | 1 | BOGOTA | 12 | 2 | 1 | 25 | ⋯ |    NA | NA |    NA |  8018.808 |     NA | NA |     NA |       NA | 1649583.4 |  8018.808 |\n",
       "| 3192 | 4804452 | 1 |  3 | 1 | BOGOTA | 12 | 3 | 1 |  8 | ⋯ |    NA | NA |    NA |        NA |     NA | NA |     NA |       NA |        NA |        NA |\n",
       "| 3193 | 4804452 | 1 |  7 | 1 | BOGOTA | 12 | 3 | 1 | 11 | ⋯ |    NA | NA |    NA |        NA |     NA | NA |     NA |       NA |        NA |        NA |\n",
       "| 3194 | 4804452 | 1 |  8 | 1 | BOGOTA | 12 | 3 | 1 |  1 | ⋯ |    NA | NA |    NA |        NA |     NA | NA |     NA |       NA |        NA |        NA |\n",
       "| 3195 | 4804452 | 1 |  1 | 1 | BOGOTA | 12 | 3 | 1 | 39 | ⋯ |    NA | NA |    NA |  2333.333 |     NA | NA |     NA |       NA |  700000.0 |  2333.333 |\n",
       "| 3196 | 4804452 | 1 |  2 | 1 | BOGOTA | 12 | 3 | 0 | 24 | ⋯ |    NA | NA |    NA |  2916.667 |     NA | NA |     NA |       NA |  750000.0 |  2916.667 |\n",
       "| 3197 | 4804452 | 1 |  4 | 1 | BOGOTA | 12 | 3 | 0 | 48 | ⋯ |    NA | NA |    NA |        NA |     NA | NA |     NA |       NA |        NA |        NA |\n",
       "| 3198 | 4804452 | 1 |  5 | 1 | BOGOTA | 12 | 3 | 0 | 29 | ⋯ |    NA | NA | 50000 |  2333.333 |     NA | NA |     NA |       NA |  500000.0 |  2333.333 |\n",
       "| 3199 | 4804452 | 1 |  6 | 1 | BOGOTA | 12 | 3 | 1 | 27 | ⋯ |    NA | NA |    NA |  2722.222 |     NA | NA |     NA |       NA |  700000.0 |  2722.222 |\n",
       "| 3200 | 4804453 | 1 |  1 | 1 | BOGOTA | 12 | 3 | 1 | 79 | ⋯ |    NA | NA |    NA |        NA | 600000 | NA | 600000 | 9333.333 |  600000.0 |  9333.333 |\n",
       "| 3201 | 4804453 | 1 |  2 | 1 | BOGOTA | 12 | 3 | 0 | 76 | ⋯ |    NA | NA |    NA |        NA |     NA | NA |     NA |       NA |        NA |        NA |\n",
       "| 3202 | 4804453 | 1 |  3 | 1 | BOGOTA | 12 | 3 | 0 | 52 | ⋯ |    NA | NA |    NA |        NA |  70000 | NA |  70000 | 3266.667 |   70000.0 |  3266.667 |\n",
       "| 3203 | 4804453 | 1 |  4 | 1 | BOGOTA | 12 | 3 | 0 | 54 | ⋯ |    NA | NA |    NA |        NA |     NA | NA |     NA |       NA |        NA |        NA |\n",
       "| 3204 | 4804453 | 1 |  5 | 1 | BOGOTA | 12 | 3 | 1 | 64 | ⋯ |    NA | NA |    NA |        NA | 700000 | NA | 700000 | 3402.778 |  700000.0 |  3402.778 |\n",
       "| 3205 | 4804453 | 1 |  6 | 1 | BOGOTA | 12 | 3 | 1 | 24 | ⋯ |    NA | NA |    NA |  5288.889 |     NA | NA |     NA |       NA | 1088000.0 |  5288.889 |\n",
       "| 3206 | 4804453 | 1 |  7 | 1 | BOGOTA | 12 | 3 | 1 | 20 | ⋯ |    NA | NA |    NA |        NA |     NA | NA |     NA |       NA |        NA |        NA |\n",
       "| 3207 | 4804453 | 1 |  8 | 1 | BOGOTA | 12 | 3 | 0 | 50 | ⋯ |    NA | NA |    NA |  4864.127 |     NA | NA |     NA |       NA | 1146544.4 |  4864.127 |\n",
       "| 3208 | 4804453 | 1 |  9 | 1 | BOGOTA | 12 | 3 | 1 | 23 | ⋯ |    NA | NA |    NA |        NA | 200000 | NA | 200000 | 9333.333 |  200000.0 |  9333.333 |\n",
       "| 3209 | 4804453 | 1 | 10 | 1 | BOGOTA | 12 | 3 | 0 | 15 | ⋯ |    NA | NA |    NA |        NA |     NA | NA |     NA |       NA |        NA |        NA |\n",
       "| 3210 | 4804454 | 1 |  3 | 1 | BOGOTA | 12 | 2 | 1 |  4 | ⋯ |    NA | NA |    NA |        NA |     NA | NA |     NA |       NA |        NA |        NA |\n",
       "| 3211 | 4804454 | 1 |  4 | 1 | BOGOTA | 12 | 2 | 1 |  2 | ⋯ |    NA | NA |    NA |        NA |     NA | NA |     NA |       NA |        NA |        NA |\n",
       "| 3212 | 4804454 | 1 |  1 | 1 | BOGOTA | 12 | 2 | 1 | 27 | ⋯ |    NA | NA |    NA |  4453.359 |     NA | NA |     NA |       NA |  916119.7 |  4453.359 |\n",
       "| 3213 | 4804454 | 1 |  2 | 1 | BOGOTA | 12 | 2 | 0 | 24 | ⋯ |    NA | NA |    NA |  3345.556 |     NA | NA |     NA |       NA | 1003666.7 |  3345.556 |\n",
       "| 3214 | 4804455 | 1 |  1 | 1 | BOGOTA | 12 | 3 | 0 | 36 | ⋯ | 5e+05 | NA |    NA | 25958.334 |     NA | NA |     NA |       NA | 6675000.0 | 25958.334 |\n",
       "| 3215 | 4804455 | 1 |  2 | 1 | BOGOTA | 12 | 3 | 1 | 41 | ⋯ |    NA | NA |    NA |        NA |     NA | NA |     NA |       NA |        NA |        NA |\n",
       "| 3216 | 4804455 | 1 |  3 | 1 | BOGOTA | 12 | 3 | 1 |  8 | ⋯ |    NA | NA |    NA |        NA |     NA | NA |     NA |       NA |        NA |        NA |\n",
       "| 3217 | 4804455 | 1 |  4 | 1 | BOGOTA | 12 | 3 | 0 |  0 | ⋯ |    NA | NA |    NA |        NA |     NA | NA |     NA |       NA |        NA |        NA |\n",
       "\n"
      ],
      "text/plain": [
       "      Var.1 directorio secuencia_p orden clase dominio mes estrato1 sex age ⋯\n",
       "1      1    4514331    1           2     1     BOGOTA  1   2        0   29  ⋯\n",
       "2      2    4514331    1           1     1     BOGOTA  1   2        1   36  ⋯\n",
       "3      3    4514332    1           4     1     BOGOTA  1   2        1    4  ⋯\n",
       "4      4    4514332    1           3     1     BOGOTA  1   2        1    7  ⋯\n",
       "5      5    4514332    1           1     1     BOGOTA  1   2        0   32  ⋯\n",
       "6      6    4514332    1           2     1     BOGOTA  1   2        1   35  ⋯\n",
       "7      7    4514333    1           4     1     BOGOTA  1   2        1   18  ⋯\n",
       "8      8    4514333    1           2     1     BOGOTA  1   2        0   49  ⋯\n",
       "9      9    4514333    1           1     1     BOGOTA  1   2        1   51  ⋯\n",
       "10    10    4514333    1           3     1     BOGOTA  1   2        0   23  ⋯\n",
       "11    11    4514334    1           5     1     BOGOTA  1   2        1   10  ⋯\n",
       "12    12    4514334    1           3     1     BOGOTA  1   2        0   18  ⋯\n",
       "13    13    4514334    1           4     1     BOGOTA  1   2        0   12  ⋯\n",
       "14    14    4514334    1           1     1     BOGOTA  1   2        1   45  ⋯\n",
       "15    15    4514334    1           2     1     BOGOTA  1   2        0   45  ⋯\n",
       "16    16    4514335    1           1     1     BOGOTA  1   2        1   61  ⋯\n",
       "17    17    4514335    1           2     1     BOGOTA  1   2        0   49  ⋯\n",
       "18    18    4514337    1           1     1     BOGOTA  1   2        1   68  ⋯\n",
       "19    19    4514337    1           2     1     BOGOTA  1   2        0   67  ⋯\n",
       "20    20    4514338    1           3     1     BOGOTA  1   2        1   10  ⋯\n",
       "21    21    4514338    1           1     1     BOGOTA  1   2        1   35  ⋯\n",
       "22    22    4514338    1           2     1     BOGOTA  1   2        0   35  ⋯\n",
       "23    23    4514339    1           1     1     BOGOTA  1   2        0   35  ⋯\n",
       "24    24    4514339    1           4     1     BOGOTA  1   2        0    6  ⋯\n",
       "25    25    4514339    1           3     1     BOGOTA  1   2        0   11  ⋯\n",
       "26    26    4514339    1           2     1     BOGOTA  1   2        1   39  ⋯\n",
       "27    27    4514340    1           1     1     BOGOTA  1   2        0   77  ⋯\n",
       "28    28    4514341    1           2     1     BOGOTA  1   2        1    0  ⋯\n",
       "29    29    4514341    1           1     1     BOGOTA  1   2        0   20  ⋯\n",
       "30    30    4514342    1           1     1     BOGOTA  1   2        0   54  ⋯\n",
       "⋮     ⋮     ⋮          ⋮           ⋮     ⋮     ⋮       ⋮   ⋮        ⋮   ⋮   ⋱\n",
       "32148 3188  4804413    1            1    1     BOGOTA  12  2        0   25  ⋯\n",
       "32149 3189  4804413    1            3    1     BOGOTA  12  2        1   25  ⋯\n",
       "32150 3190  4804413    1            2    1     BOGOTA  12  2        1    6  ⋯\n",
       "32151 3191  4804413    2            1    1     BOGOTA  12  2        1   25  ⋯\n",
       "32152 3192  4804452    1            3    1     BOGOTA  12  3        1    8  ⋯\n",
       "32153 3193  4804452    1            7    1     BOGOTA  12  3        1   11  ⋯\n",
       "32154 3194  4804452    1            8    1     BOGOTA  12  3        1    1  ⋯\n",
       "32155 3195  4804452    1            1    1     BOGOTA  12  3        1   39  ⋯\n",
       "32156 3196  4804452    1            2    1     BOGOTA  12  3        0   24  ⋯\n",
       "32157 3197  4804452    1            4    1     BOGOTA  12  3        0   48  ⋯\n",
       "32158 3198  4804452    1            5    1     BOGOTA  12  3        0   29  ⋯\n",
       "32159 3199  4804452    1            6    1     BOGOTA  12  3        1   27  ⋯\n",
       "32160 3200  4804453    1            1    1     BOGOTA  12  3        1   79  ⋯\n",
       "32161 3201  4804453    1            2    1     BOGOTA  12  3        0   76  ⋯\n",
       "32162 3202  4804453    1            3    1     BOGOTA  12  3        0   52  ⋯\n",
       "32163 3203  4804453    1            4    1     BOGOTA  12  3        0   54  ⋯\n",
       "32164 3204  4804453    1            5    1     BOGOTA  12  3        1   64  ⋯\n",
       "32165 3205  4804453    1            6    1     BOGOTA  12  3        1   24  ⋯\n",
       "32166 3206  4804453    1            7    1     BOGOTA  12  3        1   20  ⋯\n",
       "32167 3207  4804453    1            8    1     BOGOTA  12  3        0   50  ⋯\n",
       "32168 3208  4804453    1            9    1     BOGOTA  12  3        1   23  ⋯\n",
       "32169 3209  4804453    1           10    1     BOGOTA  12  3        0   15  ⋯\n",
       "32170 3210  4804454    1            3    1     BOGOTA  12  2        1    4  ⋯\n",
       "32171 3211  4804454    1            4    1     BOGOTA  12  2        1    2  ⋯\n",
       "32172 3212  4804454    1            1    1     BOGOTA  12  2        1   27  ⋯\n",
       "32173 3213  4804454    1            2    1     BOGOTA  12  2        0   24  ⋯\n",
       "32174 3214  4804455    1            1    1     BOGOTA  12  3        0   36  ⋯\n",
       "32175 3215  4804455    1            2    1     BOGOTA  12  3        1   41  ⋯\n",
       "32176 3216  4804455    1            3    1     BOGOTA  12  3        1    8  ⋯\n",
       "32177 3217  4804455    1            4    1     BOGOTA  12  3        0    0  ⋯\n",
       "      y_viaticos_m y_accidentes_m y_salarySec_m y_ingLab_m_ha y_gananciaNeta_m\n",
       "1     NA           NA             NA                  NA      NA              \n",
       "2     NA           NA             NA            8404.320      NA              \n",
       "3     NA           NA             NA                  NA      NA              \n",
       "4     NA           NA             NA                  NA      NA              \n",
       "5     NA           NA             NA                  NA      NA              \n",
       "6     NA           NA             NA                  NA      NA              \n",
       "7     NA           NA             NA                  NA      NA              \n",
       "8     NA           NA             NA                  NA      NA              \n",
       "9     NA           NA             NA            6703.343      NA              \n",
       "10    NA           NA             NA                  NA      NA              \n",
       "11    NA           NA             NA                  NA      NA              \n",
       "12    NA           NA             NA                  NA      NA              \n",
       "13    NA           NA             NA                  NA      NA              \n",
       "14    NA           NA             NA            3680.654      NA              \n",
       "15    NA           NA             NA                  NA      NA              \n",
       "16    NA           NA             NA            4083.333      NA              \n",
       "17    NA           NA             NA                  NA      NA              \n",
       "18    NA           NA             NA                  NA      NA              \n",
       "19    NA           NA             NA                  NA      NA              \n",
       "20    NA           NA             NA                  NA      NA              \n",
       "21    NA           NA             NA                  NA      NA              \n",
       "22    NA           NA             NA            9437.848      NA              \n",
       "23    NA           NA             NA            6317.500      NA              \n",
       "24    NA           NA             NA                  NA      NA              \n",
       "25    NA           NA             NA                  NA      NA              \n",
       "26    NA           NA             NA            8571.465      NA              \n",
       "27    NA           NA             NA                  NA      NA              \n",
       "28    NA           NA             NA                  NA      NA              \n",
       "29    NA           NA             NA                  NA      NA              \n",
       "30    NA           NA             NA                  NA      NA              \n",
       "⋮     ⋮            ⋮              ⋮             ⋮             ⋮               \n",
       "32148    NA        NA                NA                NA         NA          \n",
       "32149    NA        NA                NA                NA     781242          \n",
       "32150    NA        NA                NA                NA         NA          \n",
       "32151    NA        NA                NA          8018.808         NA          \n",
       "32152    NA        NA                NA                NA         NA          \n",
       "32153    NA        NA                NA                NA         NA          \n",
       "32154    NA        NA                NA                NA         NA          \n",
       "32155    NA        NA                NA          2333.333         NA          \n",
       "32156    NA        NA                NA          2916.667         NA          \n",
       "32157    NA        NA                NA                NA         NA          \n",
       "32158    NA        NA             50000          2333.333         NA          \n",
       "32159    NA        NA                NA          2722.222         NA          \n",
       "32160    NA        NA                NA                NA     600000          \n",
       "32161    NA        NA                NA                NA         NA          \n",
       "32162    NA        NA                NA                NA      70000          \n",
       "32163    NA        NA                NA                NA         NA          \n",
       "32164    NA        NA                NA                NA     700000          \n",
       "32165    NA        NA                NA          5288.889         NA          \n",
       "32166    NA        NA                NA                NA         NA          \n",
       "32167    NA        NA                NA          4864.127         NA          \n",
       "32168    NA        NA                NA                NA     200000          \n",
       "32169    NA        NA                NA                NA         NA          \n",
       "32170    NA        NA                NA                NA         NA          \n",
       "32171    NA        NA                NA                NA         NA          \n",
       "32172    NA        NA                NA          4453.359         NA          \n",
       "32173    NA        NA                NA          3345.556         NA          \n",
       "32174 5e+05        NA                NA         25958.334         NA          \n",
       "32175    NA        NA                NA                NA         NA          \n",
       "32176    NA        NA                NA                NA         NA          \n",
       "32177    NA        NA                NA                NA         NA          \n",
       "      y_gananciaNetaAgro_m y_gananciaIndep_m y_gananciaIndep_m_hu y_total_m\n",
       "1     NA                   NA                NA                        NA  \n",
       "2     NA                   NA                NA                   1620833  \n",
       "3     NA                   NA                NA                        NA  \n",
       "4     NA                   NA                NA                        NA  \n",
       "5     NA                   NA                NA                        NA  \n",
       "6     NA                   NA                NA                        NA  \n",
       "7     NA                   NA                NA                        NA  \n",
       "8     NA                   NA                NA                        NA  \n",
       "9     NA                   NA                NA                   1378973  \n",
       "10    NA                   NA                NA                        NA  \n",
       "11    NA                   NA                NA                        NA  \n",
       "12    NA                   NA                NA                        NA  \n",
       "13    NA                   NA                NA                        NA  \n",
       "14    NA                   NA                NA                    883357  \n",
       "15    NA                   NA                NA                        NA  \n",
       "16    NA                   NA                NA                    700000  \n",
       "17    NA                   NA                NA                        NA  \n",
       "18    NA                   NA                NA                        NA  \n",
       "19    NA                   NA                NA                        NA  \n",
       "20    NA                   NA                NA                        NA  \n",
       "21    NA                   NA                NA                        NA  \n",
       "22    NA                   NA                NA                   1941500  \n",
       "23    NA                   NA                NA                   1083000  \n",
       "24    NA                   NA                NA                        NA  \n",
       "25    NA                   NA                NA                        NA  \n",
       "26    NA                   NA                NA                   1616333  \n",
       "27    NA                   NA                NA                        NA  \n",
       "28    NA                   NA                NA                        NA  \n",
       "29    NA                   NA                NA                        NA  \n",
       "30    NA                   NA                NA                        NA  \n",
       "⋮     ⋮                    ⋮                 ⋮                    ⋮        \n",
       "32148 NA                       NA                  NA                    NA\n",
       "32149 NA                   781242            3797.704              781242.0\n",
       "32150 NA                       NA                  NA                    NA\n",
       "32151 NA                       NA                  NA             1649583.4\n",
       "32152 NA                       NA                  NA                    NA\n",
       "32153 NA                       NA                  NA                    NA\n",
       "32154 NA                       NA                  NA                    NA\n",
       "32155 NA                       NA                  NA              700000.0\n",
       "32156 NA                       NA                  NA              750000.0\n",
       "32157 NA                       NA                  NA                    NA\n",
       "32158 NA                       NA                  NA              500000.0\n",
       "32159 NA                       NA                  NA              700000.0\n",
       "32160 NA                   600000            9333.333              600000.0\n",
       "32161 NA                       NA                  NA                    NA\n",
       "32162 NA                    70000            3266.667               70000.0\n",
       "32163 NA                       NA                  NA                    NA\n",
       "32164 NA                   700000            3402.778              700000.0\n",
       "32165 NA                       NA                  NA             1088000.0\n",
       "32166 NA                       NA                  NA                    NA\n",
       "32167 NA                       NA                  NA             1146544.4\n",
       "32168 NA                   200000            9333.333              200000.0\n",
       "32169 NA                       NA                  NA                    NA\n",
       "32170 NA                       NA                  NA                    NA\n",
       "32171 NA                       NA                  NA                    NA\n",
       "32172 NA                       NA                  NA              916119.7\n",
       "32173 NA                       NA                  NA             1003666.7\n",
       "32174 NA                       NA                  NA             6675000.0\n",
       "32175 NA                       NA                  NA                    NA\n",
       "32176 NA                       NA                  NA                    NA\n",
       "32177 NA                       NA                  NA                    NA\n",
       "      y_total_m_ha\n",
       "1           NA    \n",
       "2     8404.320    \n",
       "3           NA    \n",
       "4           NA    \n",
       "5           NA    \n",
       "6           NA    \n",
       "7           NA    \n",
       "8           NA    \n",
       "9     6703.343    \n",
       "10          NA    \n",
       "11          NA    \n",
       "12          NA    \n",
       "13          NA    \n",
       "14    3680.654    \n",
       "15          NA    \n",
       "16    4083.333    \n",
       "17          NA    \n",
       "18          NA    \n",
       "19          NA    \n",
       "20          NA    \n",
       "21          NA    \n",
       "22    9437.848    \n",
       "23    6317.500    \n",
       "24          NA    \n",
       "25          NA    \n",
       "26    8571.465    \n",
       "27          NA    \n",
       "28          NA    \n",
       "29          NA    \n",
       "30          NA    \n",
       "⋮     ⋮           \n",
       "32148        NA   \n",
       "32149  3797.704   \n",
       "32150        NA   \n",
       "32151  8018.808   \n",
       "32152        NA   \n",
       "32153        NA   \n",
       "32154        NA   \n",
       "32155  2333.333   \n",
       "32156  2916.667   \n",
       "32157        NA   \n",
       "32158  2333.333   \n",
       "32159  2722.222   \n",
       "32160  9333.333   \n",
       "32161        NA   \n",
       "32162  3266.667   \n",
       "32163        NA   \n",
       "32164  3402.778   \n",
       "32165  5288.889   \n",
       "32166        NA   \n",
       "32167  4864.127   \n",
       "32168  9333.333   \n",
       "32169        NA   \n",
       "32170        NA   \n",
       "32171        NA   \n",
       "32172  4453.359   \n",
       "32173  3345.556   \n",
       "32174 25958.334   \n",
       "32175        NA   \n",
       "32176        NA   \n",
       "32177        NA   "
      ]
     },
     "metadata": {},
     "output_type": "display_data"
    }
   ],
   "source": [
    "df"
   ]
  },
  {
   "cell_type": "code",
   "execution_count": null,
   "metadata": {
    "vscode": {
     "languageId": "r"
    }
   },
   "outputs": [],
   "source": [
    "#TODO: interpret"
   ]
  },
  {
   "cell_type": "markdown",
   "metadata": {},
   "source": [
    "# 2. Age-Wage Analysis"
   ]
  },
  {
   "cell_type": "markdown",
   "metadata": {},
   "source": [
    "## 2.1. Prep Data"
   ]
  },
  {
   "cell_type": "code",
   "execution_count": 23,
   "metadata": {
    "vscode": {
     "languageId": "r"
    }
   },
   "outputs": [],
   "source": [
    "# prep data\n",
    "df <- df[df$age > 18 & df$ocu == 1, ]\n",
    "names(df) <- make.names(names(df), unique = TRUE) # set df names\n",
    "\n",
    "# drop missing wages, log transform\n",
    "df <- df %>%\n",
    "    filter(!is.na(y_ingLab_m), !is.na(age)) %>%\n",
    "    mutate(log_wage = log(y_ingLab_m + 1))\n"
   ]
  },
  {
   "cell_type": "markdown",
   "metadata": {},
   "source": [
    "## 2.2. Model Estimation"
   ]
  },
  {
   "cell_type": "code",
   "execution_count": 24,
   "metadata": {
    "vscode": {
     "languageId": "r"
    }
   },
   "outputs": [
    {
     "name": "stdout",
     "output_type": "stream",
     "text": [
      "\n",
      "Call:\n",
      "lm(formula = log_wage ~ age + I(age^2), data = df)\n",
      "\n",
      "Residuals:\n",
      "    Min      1Q  Median      3Q     Max \n",
      "-3.7449 -0.3833 -0.1060  0.3007  3.8503 \n",
      "\n",
      "Coefficients:\n",
      "              Estimate Std. Error t value Pr(>|t|)    \n",
      "(Intercept)  1.238e+01  7.335e-02  168.73   <2e-16 ***\n",
      "age          8.509e-02  3.878e-03   21.94   <2e-16 ***\n",
      "I(age^2)    -9.880e-04  4.773e-05  -20.70   <2e-16 ***\n",
      "---\n",
      "Signif. codes:  0 ‘***’ 0.001 ‘**’ 0.01 ‘*’ 0.05 ‘.’ 0.1 ‘ ’ 1\n",
      "\n",
      "Residual standard error: 0.7423 on 9782 degrees of freedom\n",
      "Multiple R-squared:  0.05007,\tAdjusted R-squared:  0.04988 \n",
      "F-statistic: 257.8 on 2 and 9782 DF,  p-value: < 2.2e-16\n",
      "\n"
     ]
    }
   ],
   "source": [
    "# fit OLS model\n",
    "model <- lm(log_wage ~ age + I(age^2), data = df)\n",
    "print(summary(model))"
   ]
  },
  {
   "cell_type": "markdown",
   "metadata": {},
   "source": [
    "## 2.3. Bootstrap SE's"
   ]
  },
  {
   "cell_type": "code",
   "execution_count": 26,
   "metadata": {
    "vscode": {
     "languageId": "r"
    }
   },
   "outputs": [],
   "source": [
    "# define a function to apply bootstrap to regression estimates\n",
    "boot_fn <- function(data, indices) {\n",
    "    d <- data[indices, ]\n",
    "    fit <- lm(log_wage ~ age + I(age^2), data = d)\n",
    "    coef <- coef(fit)\n",
    "    peak_age <- -coef[2] / (2 * coef[3])\n",
    "    return(c(coef, peak_age = peak_age))\n",
    "}\n",
    "\n",
    "# define a function that calculates peak age (see model)\n",
    "calc_peak_age <- function(data, indices) {\n",
    "    d <- data[indices, ]\n",
    "    model <- lm(log_wage ~ age + I(age^2), data = d)\n",
    "    coef <- coef(model)\n",
    "    peak_age <- -coef[2] / (2 * coef[3])\n",
    "    return(peak_age)\n",
    "}\n",
    "\n",
    "# bootstrap\n",
    "set.seed(555)\n",
    "boot_results <- boot(data = df, statistic = boot_fn, R = 1000)\n",
    "\n",
    "boot_se <- apply(boot_results$t, 2, sd)"
   ]
  },
  {
   "cell_type": "markdown",
   "metadata": {},
   "source": [
    "# 2.4. Results"
   ]
  },
  {
   "cell_type": "markdown",
   "metadata": {},
   "source": [
    "### Table"
   ]
  },
  {
   "cell_type": "code",
   "execution_count": 27,
   "metadata": {
    "vscode": {
     "languageId": "r"
    }
   },
   "outputs": [
    {
     "name": "stdout",
     "output_type": "stream",
     "text": [
      "\n",
      "Age-Wage Profile Regression Results\n",
      "===============================================\n",
      "                        Dependent variable:    \n",
      "                    ---------------------------\n",
      "                             log_wage          \n",
      "                           Coefficients        \n",
      "-----------------------------------------------\n",
      "age                          0.085***          \n",
      "                              (0.005)          \n",
      "                                               \n",
      "I(age2)                      -0.001***         \n",
      "                             (0.0001)          \n",
      "                                               \n",
      "Constant                     12.376***         \n",
      "                              (0.084)          \n",
      "                                               \n",
      "-----------------------------------------------\n",
      "Observations                   9,785           \n",
      "R2                             0.050           \n",
      "Adjusted R2                    0.050           \n",
      "Residual Std. Error      0.742 (df = 9782)     \n",
      "F Statistic          257.797*** (df = 2; 9782) \n",
      "===============================================\n",
      "Note:               *p<0.1; **p<0.05; ***p<0.01\n",
      "\n",
      "Peak Age Analysis:\n",
      "Estimated Peak Age: 43.06 \n",
      "95% CI for Peak Age: 42.26 to 43.98 \n",
      "\n"
     ]
    }
   ],
   "source": [
    "stargazer(model,\n",
    "    se = list(boot_se), type = \"text\",\n",
    "    title = \"Age-Wage Profile Regression Results\",\n",
    "    column.labels = c(\"Coefficients\", \"Bootstrap SE\")\n",
    ")\n",
    "\n",
    "# peak age & CI's\n",
    "original_peak_age <- -coef(model)[2] / (2 * coef(model)[3])\n",
    "ci_peak <- quantile(boot_results$t[, 4], c(0.025, 0.975))\n",
    "\n",
    "cat(\"\\nPeak Age Analysis:\\n\")\n",
    "cat(\"Estimated Peak Age:\", round(original_peak_age, 2), \"\\n\")\n",
    "cat(\n",
    "    \"95% CI for Peak Age:\", round(ci_peak[1], 2),\n",
    "    \"to\", round(ci_peak[2], 2), \"\\n\\n\"\n",
    ")"
   ]
  },
  {
   "cell_type": "markdown",
   "metadata": {},
   "source": [
    "### Plot"
   ]
  },
  {
   "cell_type": "code",
   "execution_count": 43,
   "metadata": {
    "vscode": {
     "languageId": "r"
    }
   },
   "outputs": [],
   "source": [
    "# install.packages(\"IRkernel\")\n",
    "# IRkernel::installspec() "
   ]
  },
  {
   "cell_type": "code",
   "execution_count": 44,
   "metadata": {
    "vscode": {
     "languageId": "r"
    }
   },
   "outputs": [],
   "source": [
    "temp_dir <- \"~/R_temp\"\n",
    "dir.create(temp_dir, showWarnings = FALSE, recursive = TRUE)\n",
    "Sys.setenv(TMPDIR = temp_dir)\n",
    "\n",
    "png(filename = paste0(temp_dir, \"/plot.png\"))"
   ]
  },
  {
   "cell_type": "code",
   "execution_count": 52,
   "metadata": {
    "vscode": {
     "languageId": "r"
    }
   },
   "outputs": [],
   "source": [
    "new_data <- data.frame(age = seq(min(df$age), max(df$age), length.out = 100))\n",
    "new_data$predicted_log_wage <- predict(model, newdata = new_data)\n",
    "\n",
    "png(filename = paste0(temp_dir, \"/plot.png\"))\n",
    "\n",
    "ggplot(df, aes(x = age, y = log_wage)) +\n",
    "  geom_point(alpha = 0.1) +\n",
    "  geom_line(data = new_data, aes(x = age, y = predicted_log_wage), color = \"red\") +\n",
    "  geom_vline(\n",
    "    xintercept = original_peak_age, color = \"blue\",\n",
    "    linetype = \"dashed\") +\n",
    "  geom_vline(xintercept = ci_peak[1], color = \"green\", linetype = \"dashed\") +\n",
    "  geom_vline(xintercept = ci_peak[2], color = \"green\", linetype = \"dashed\") +\n",
    "  labs(\n",
    "    title = \"Age-Wage Profile\", x = \"Age\", y = \"Log Wage\",\n",
    "    caption = \"Blue dashed line: Estimated peak age\\nGreen dashed lines: 95% CI\") +\n",
    "  theme_minimal()\n",
    "\n",
    "#TODO: How to add plot :/"
   ]
  },
  {
   "cell_type": "markdown",
   "metadata": {},
   "source": [
    "# 3. Gender Earnings GAP"
   ]
  },
  {
   "cell_type": "markdown",
   "metadata": {},
   "source": [
    "## 3.1. Unconditional GAP"
   ]
  },
  {
   "cell_type": "code",
   "execution_count": 46,
   "metadata": {
    "vscode": {
     "languageId": "r"
    }
   },
   "outputs": [
    {
     "name": "stdout",
     "output_type": "stream",
     "text": [
      "\n",
      "t test of coefficients:\n",
      "\n",
      "             Estimate Std. Error   t value  Pr(>|t|)    \n",
      "(Intercept) 13.948138   0.011551 1207.5540 < 2.2e-16 ***\n",
      "sex          0.151050   0.015329    9.8536 < 2.2e-16 ***\n",
      "---\n",
      "Signif. codes:  0 ‘***’ 0.001 ‘**’ 0.01 ‘*’ 0.05 ‘.’ 0.1 ‘ ’ 1\n",
      "\n"
     ]
    }
   ],
   "source": [
    "model_gap <- lm(log_wage ~ sex, data = df)\n",
    "robust_se <- vcovHC(model_gap, type = \"HC1\") # heteroskedasticity robust SE\n",
    "robust_summary <- coeftest(model_gap, vcov = robust_se)\n",
    "print(robust_summary)"
   ]
  },
  {
   "cell_type": "code",
   "execution_count": null,
   "metadata": {
    "vscode": {
     "languageId": "r"
    }
   },
   "outputs": [],
   "source": [
    "#TODO: interpret"
   ]
  },
  {
   "cell_type": "markdown",
   "metadata": {},
   "source": [
    "## 3.2. Conditional GAP"
   ]
  },
  {
   "cell_type": "markdown",
   "metadata": {},
   "source": [
    "### 3.2.1. Standard SE"
   ]
  },
  {
   "cell_type": "code",
   "execution_count": 47,
   "metadata": {
    "vscode": {
     "languageId": "r"
    }
   },
   "outputs": [],
   "source": [
    "# define control variables\n",
    "controls <- c(\"age\", \"oficio\", \"p6210\", \"relab\", \"hoursWorkUsual\")\n",
    "## --> \"p6220\" refers to education attainment\n",
    "\n",
    "# i) FWL: Standard SE's\n",
    "formula_controls <- as.formula(paste(\n",
    "    \"log_wage ~\",\n",
    "    paste(controls, collapse = \" + \")\n",
    "))\n",
    "formula_controls_sex <- as.formula(paste(\n",
    "    \"sex ~\",\n",
    "    paste(controls, collapse = \" + \")\n",
    "))\n",
    "\n",
    "# partial out the controls\n",
    "residuals_y <- feols(formula_controls, data = df)$residuals\n",
    "residuals_sex <- feols(formula_controls_sex, data = df)$residuals\n",
    "\n",
    "# regress residuals\n",
    "fwl_model <- lm(residuals_y ~ residuals_sex)\n",
    "\n",
    "# stats\n",
    "fwl_coef <- coef(fwl_model)[2]\n",
    "fwl_se <- sqrt(vcov(fwl_model)[2, 2])\n"
   ]
  },
  {
   "cell_type": "markdown",
   "metadata": {},
   "source": [
    "### 3.2.2. Bootstrap SE"
   ]
  },
  {
   "cell_type": "code",
   "execution_count": 50,
   "metadata": {
    "vscode": {
     "languageId": "r"
    }
   },
   "outputs": [],
   "source": [
    "# recycle our old f\n",
    "boot_fwl <- function(data, indices) {\n",
    "    resid_y <- residuals_y[indices]\n",
    "    resid_sex <- residuals_sex[indices]\n",
    "    boot_model <- lm(resid_y ~ resid_sex)\n",
    "    return(coef(boot_model)[2])\n",
    "}\n",
    "\n",
    "# bootstrap\n",
    "set.seed(555)\n",
    "boot_results <- boot(data = df, statistic = boot_fwl, R = 5000)\n",
    "\n",
    "# bootstrap standard error\n",
    "boot_se <- sd(boot_results$t)"
   ]
  },
  {
   "cell_type": "markdown",
   "metadata": {},
   "source": [
    "### 3.2.3. Results"
   ]
  },
  {
   "cell_type": "code",
   "execution_count": 60,
   "metadata": {
    "vscode": {
     "languageId": "r"
    }
   },
   "outputs": [
    {
     "name": "stdout",
     "output_type": "stream",
     "text": [
      "\n",
      "Frisch-Waugh-Lovell Theorem Results\n",
      "=========================================================\n",
      "Coefficient                                Statistic     \n",
      "---------------------------------------------------------\n",
      "Coefficient                                 0.22470      \n",
      "Standard Error (Normal)                     0.01312      \n",
      "Standard Error (Bootstrap)                  0.01314      \n",
      "---------------------------------------------------------\n",
      "Bootstrap standard errors are based on 1000 replications \n"
     ]
    }
   ],
   "source": [
    "results_df <- data.frame(\n",
    "    Term = c(\"Coefficient\", \"Standard Error (Normal)\", \"Standard Error (Bootstrap)\"),\n",
    "    Estimate = c(fwl_coef, fwl_se, boot_se)\n",
    ")\n",
    "\n",
    "stargazer(\n",
    "  results_df,\n",
    "  type = \"text\",\n",
    "  summary = FALSE,\n",
    "  rownames = FALSE,\n",
    "  title = \"Frisch-Waugh-Lovell Theorem Results\",\n",
    "  covariate.labels = c(\"Coefficient\", \"Statistic\", \"Standard Error (Bootstrap)\"), # Keep original row labels\n",
    "  coef = list(results_df$Estimate),\n",
    "  digits = 5,\n",
    "  notes = \"Bootstrap standard errors are based on 1000 replications\",\n",
    "  out = \"results_table.txt\"\n",
    ")\n",
    "\n",
    "table_text <- readLines(\"results_table.txt\")\n",
    "table_text <- gsub(\"Standard Error \\\\(Normal\\\\)\", \"Statistic\", table_text, fixed = FALSE)\n"
   ]
  },
  {
   "cell_type": "markdown",
   "metadata": {},
   "source": [
    "### Plot \n",
    "Q: How?"
   ]
  },
  {
   "cell_type": "code",
   "execution_count": null,
   "metadata": {
    "vscode": {
     "languageId": "r"
    }
   },
   "outputs": [],
   "source": [
    "#TODO"
   ]
  },
  {
   "cell_type": "code",
   "execution_count": null,
   "metadata": {
    "vscode": {
     "languageId": "r"
    }
   },
   "outputs": [],
   "source": [
    "#TODO: interpret"
   ]
  },
  {
   "cell_type": "markdown",
   "metadata": {},
   "source": [
    "# 4. Predicting Wage"
   ]
  },
  {
   "cell_type": "markdown",
   "metadata": {},
   "source": [
    "## 4.1. Sample Split"
   ]
  },
  {
   "cell_type": "code",
   "execution_count": 61,
   "metadata": {
    "vscode": {
     "languageId": "r"
    }
   },
   "outputs": [
    {
     "name": "stdout",
     "output_type": "stream",
     "text": [
      "Training Set Size: 6849 \n",
      "Testing Set Size: 2936 \n"
     ]
    }
   ],
   "source": [
    "set.seed(555)\n",
    "\n",
    "n <- nrow(df)\n",
    "train_indices <- sample(1:n, size = 0.7 * n, replace = FALSE)\n",
    "\n",
    "train_data <- df[train_indices, ]  # Training set (70%)\n",
    "test_data <- df[-train_indices, ]  # Testing set (30%)\n",
    "\n",
    "cat(\"Training Set Size:\", nrow(train_data), \"\\n\")\n",
    "cat(\"Testing Set Size:\", nrow(test_data), \"\\n\")"
   ]
  },
  {
   "cell_type": "markdown",
   "metadata": {},
   "source": [
    "## 4.2. Model Specification & Estimation"
   ]
  }
 ],
 "metadata": {
  "kernelspec": {
   "display_name": "R",
   "language": "R",
   "name": "ir"
  },
  "language_info": {
   "codemirror_mode": "r",
   "file_extension": ".r",
   "mimetype": "text/x-r-source",
   "name": "R",
   "pygments_lexer": "r",
   "version": "4.4.1"
  }
 },
 "nbformat": 4,
 "nbformat_minor": 2
}
